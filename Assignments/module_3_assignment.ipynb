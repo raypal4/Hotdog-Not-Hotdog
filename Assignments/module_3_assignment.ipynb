{
 "cells": [
  {
   "cell_type": "markdown",
   "metadata": {
    "deletable": false,
    "editable": false,
    "nbgrader": {
     "cell_type": "markdown",
     "checksum": "49e03f877d37129ed6403521dce2e719",
     "grade": false,
     "grade_id": "cell-a83c7eecdc468052",
     "locked": true,
     "schema_version": 3,
     "solution": false,
     "task": false
    }
   },
   "source": [
    "# Module 3 Assignment\n",
    "\n",
    "Your objective in this assignment is to implement a tennis ball detector using a pre-trained image classification network from GluonCV. We'll step through the pipeline, from loading and transforming an input image, to loading and using a pre-trained model. Since we're only interested in detecting tennis balls, this is a binary classification problem, which is slightly different to the multi-class classification setup we've seen so far."
   ]
  },
  {
   "cell_type": "markdown",
   "metadata": {
    "deletable": false,
    "editable": false,
    "nbgrader": {
     "cell_type": "markdown",
     "checksum": "2397634bd34dc9f6fa1c50d569bbc7ca",
     "grade": false,
     "grade_id": "cell-5e747cf3b1fe0ac8",
     "locked": true,
     "schema_version": 3,
     "solution": false,
     "task": false
    }
   },
   "source": [
    "### 0) Setup\n",
    "\n",
    "We start with some initial setup: importing packages and setting the path to the data."
   ]
  },
  {
   "cell_type": "code",
   "execution_count": 174,
   "metadata": {
    "deletable": false,
    "editable": false,
    "nbgrader": {
     "cell_type": "code",
     "checksum": "c77fc3262ca75000cab05f1fe015e56a",
     "grade": false,
     "grade_id": "cell-7db2d358bd1df7e1",
     "locked": true,
     "schema_version": 3,
     "solution": false,
     "task": false
    },
    "slideshow": {
     "slide_type": "fragment"
    }
   },
   "outputs": [],
   "source": [
    "import mxnet as mx\n",
    "import gluoncv as gcv\n",
    "import matplotlib.pyplot as plt\n",
    "import numpy as np\n",
    "import os\n",
    "from pathlib import Path\n",
    "from mxnet.gluon.data.vision import transforms\n",
    "from gluoncv import data as gdata\n",
    "\n"
   ]
  },
  {
   "cell_type": "code",
   "execution_count": 175,
   "metadata": {
    "deletable": false,
    "editable": false,
    "nbgrader": {
     "cell_type": "code",
     "checksum": "4feed418a26e9c9a4e4806fba3df8aef",
     "grade": false,
     "grade_id": "cell-7a434696e505da31",
     "locked": true,
     "schema_version": 3,
     "solution": false,
     "task": false
    }
   },
   "outputs": [],
   "source": [
    "M3_DATA = Path(os.getenv('DATA_DIR', '../../data'), 'module_3')\n",
    "M3_IMAGES = Path(M3_DATA, 'images')\n",
    "M3_MODELS = Path(M3_DATA, 'models')\n"
   ]
  },
  {
   "cell_type": "markdown",
   "metadata": {
    "deletable": false,
    "editable": false,
    "nbgrader": {
     "cell_type": "markdown",
     "checksum": "e55227391ad1f7c9db863a98ba666edb",
     "grade": false,
     "grade_id": "cell-d4a88194ea60b7ae",
     "locked": true,
     "schema_version": 3,
     "solution": false,
     "task": false
    }
   },
   "source": [
    "### 1) Loading an image\n",
    "\n",
    "Your first task is to implement a function that loads an image from disk given a filepath.\n",
    "\n",
    "It should return an 8-bit image array, that's in MXNet's NDArray format and in HWC layout (i.e. height, width then channel)."
   ]
  },
  {
   "cell_type": "code",
   "execution_count": 176,
   "metadata": {
    "deletable": false,
    "nbgrader": {
     "cell_type": "code",
     "checksum": "398bb04bca4d30a96a908805bdddf5a3",
     "grade": false,
     "grade_id": "cell-ccfc8a149fa39b0b",
     "locked": false,
     "schema_version": 3,
     "solution": true,
     "task": false
    }
   },
   "outputs": [],
   "source": [
    "def load_image(filepath):\n",
    "    \"\"\"\n",
    "    Should load image from disk.\n",
    "    \n",
    "    :param filepath: relative or absolute filepath to RGB image file in JPG format.\n",
    "    :type filepath: str\n",
    "    \n",
    "    :return: an array with pixel intensities (in HWC layout).\n",
    "    :rtype: mx.nd.NDArray\n",
    "    \"\"\"\n",
    "    # YOUR CODE HERE\n",
    "    image = mx.image.imread(filepath)\n",
    "    \n",
    "    print('shape:', image.shape)\n",
    "    print('data type: ', image.dtype)\n",
    "    print('min value:', image.min().asscalar())\n",
    "    print('max value:', image.max().asscalar())\n",
    "    return image"
   ]
  },
  {
   "cell_type": "code",
   "execution_count": 177,
   "metadata": {
    "deletable": false,
    "editable": false,
    "nbgrader": {
     "cell_type": "code",
     "checksum": "814d3b41df513f1ea1826b6ba46b36b2",
     "grade": true,
     "grade_id": "cell-be16f0f19b29ae6e",
     "locked": true,
     "points": 1,
     "schema_version": 3,
     "solution": false,
     "task": false
    }
   },
   "outputs": [
    {
     "output_type": "stream",
     "name": "stdout",
     "text": "shape: (399, 640, 3)\ndata type:  <class 'numpy.uint8'>\nmin value: 0\nmax value: 255\n"
    }
   ],
   "source": [
    "test_filepath = Path(M3_IMAGES, 'ben-hershey-VEW78A1YZ6I-unsplash.jpg')\n",
    "# test_filepath = \"stock/tennisball.jpg\"\n",
    "test_output = load_image(test_filepath)\n",
    "assert test_output.shape[2] == 3  # RGB\n",
    "assert test_output.dtype == np.uint8  # 0 - 255\n",
    "assert isinstance(test_output, mx.nd.NDArray)  # MXNet NDArray, not NumPy Array."
   ]
  },
  {
   "cell_type": "markdown",
   "metadata": {
    "deletable": false,
    "editable": false,
    "nbgrader": {
     "cell_type": "markdown",
     "checksum": "9de22a9ac05090d91a3cd8ec4bc44b2d",
     "grade": false,
     "grade_id": "cell-236d1f2fd1bade96",
     "locked": true,
     "schema_version": 3,
     "solution": false,
     "task": false
    }
   },
   "source": [
    "### 2) Transforming an image\n",
    "\n",
    "Up next, you should transform the image so it can be used as input to the pre-trained network.\n",
    "\n",
    "Since we're going to use an ImageNet pre-trained network, we need to follow the same steps used for ImageNet pre-training.\n",
    "\n",
    "See the docstring for more details, but don't forget that GluonCV contains a number of utilities and helper functions to make your life easier! Check out the preset transforms."
   ]
  },
  {
   "cell_type": "code",
   "execution_count": 178,
   "metadata": {
    "deletable": false,
    "nbgrader": {
     "cell_type": "code",
     "checksum": "f9e5aabe8e46e06af999c84686499d21",
     "grade": false,
     "grade_id": "cell-67cab57a947eee16",
     "locked": false,
     "schema_version": 3,
     "solution": true,
     "task": false
    }
   },
   "outputs": [],
   "source": [
    "def transform_image(array):\n",
    "    \"\"\"\n",
    "    Should transform image by:\n",
    "    \n",
    "    1) Resizing the shortest dimension to 224. e.g (448, 1792) -> (224, 896).\n",
    "    2) Cropping to a center square of dimension (224, 224).\n",
    "    3) Converting the image from HWC layout to CHW layout.\n",
    "    4) Normalizing the image using ImageNet statistics (i.e. per colour channel mean and variance).\n",
    "    5) Creating a batch of 1 image.\n",
    "    \n",
    "    :param filepath: array (in HWC layout).\n",
    "    :type filepath: mx.nd.NDArray\n",
    "    \n",
    "    :return: a batch of a single transformed images (in NCHW layout)\n",
    "    :rtype: mx.nd.NDArray\n",
    "    \"\"\"\n",
    "    image = gcv.data.transforms.presets.imagenet.transform_eval(array)\n",
    "    return image\n"
   ]
  },
  {
   "cell_type": "code",
   "execution_count": 179,
   "metadata": {
    "deletable": false,
    "editable": false,
    "nbgrader": {
     "cell_type": "code",
     "checksum": "68c67f5b43a43970c66b9b4a912239e1",
     "grade": true,
     "grade_id": "cell-edd9e54c77785727",
     "locked": true,
     "points": 1,
     "schema_version": 3,
     "solution": false,
     "task": false
    }
   },
   "outputs": [],
   "source": [
    "transformed_test_output = transform_image(test_output)\n",
    "assert transformed_test_output.shape == (1, 3, 224, 224)\n",
    "assert transformed_test_output.dtype == np.float32"
   ]
  },
  {
   "cell_type": "markdown",
   "metadata": {
    "deletable": false,
    "editable": false,
    "nbgrader": {
     "cell_type": "markdown",
     "checksum": "167ee2e774d64c4fe127c4c54bbbcacd",
     "grade": false,
     "grade_id": "cell-399953bbd0d5a764",
     "locked": true,
     "schema_version": 3,
     "solution": false,
     "task": false
    }
   },
   "source": [
    "### 3) Loading a model\n",
    "\n",
    "With the image loaded and transformed, you now need to load a pre-trained classification model.\n",
    "\n",
    "Choose a MobileNet 1.0 image classification model that's been pre-trained on ImageNet.\n",
    "\n",
    "<font color='red'>**CAUTION!**</font>: Although the notebook interface has internet connectivity, the **autograders are not permitted to access the internet**. We have already downloaded the correct models and data for you to use so you don't need access to the internet. However, you do need to specify the correct path to the models when loading a model from the Gluon CV Model Zoo using `get_model` or otherwise. Set the `root` parameter to `M3_MODELS`. As an example, you should have something similar to `gcv.model_zoo.get_model(..., root=M3_MODELS)`. Usually, in the real world, you have internet access, so setting the `root` parameter isn't required (and it's set to `~/.mxnet` by default)."
   ]
  },
  {
   "cell_type": "code",
   "execution_count": 180,
   "metadata": {
    "deletable": false,
    "nbgrader": {
     "cell_type": "code",
     "checksum": "b0b8c2c2bddefba14efe564ab5a7044a",
     "grade": false,
     "grade_id": "cell-b74d5a756c67bf11",
     "locked": false,
     "schema_version": 3,
     "solution": true,
     "task": false
    }
   },
   "outputs": [],
   "source": [
    "def load_pretrained_classification_network():\n",
    "    \"\"\"\n",
    "    Loads a MobileNet 1.0 network that's been pre-trained on ImageNet.\n",
    "    \n",
    "    :return: a pre-trained network\n",
    "    :rtype: mx.gluon.Block\n",
    "    \"\"\"\n",
    "    # YOUR CODE HERE\n",
    "    model = gcv.model_zoo.get_model('MobileNet1.0', pretrained=True, root = M3_MODELS)\n",
    "    return model"
   ]
  },
  {
   "cell_type": "code",
   "execution_count": 181,
   "metadata": {
    "deletable": false,
    "editable": false,
    "nbgrader": {
     "cell_type": "code",
     "checksum": "3baa8ced729921d152d58764a65a1537",
     "grade": true,
     "grade_id": "cell-3228cb6c837e62ac",
     "locked": true,
     "points": 1,
     "schema_version": 3,
     "solution": false,
     "task": false
    }
   },
   "outputs": [],
   "source": [
    "network = load_pretrained_classification_network()\n",
    "assert isinstance(network, mx.gluon.Block), 'Model should be a Gluon Block'\n",
    "assert network.name.startswith('mobilenet'), 'Select MobileNet'\n",
    "params = network.collect_params(select=network.name + '_conv0_weight')\n",
    "assert list(params.items())[0][1].shape[0] == 32, 'Select MobileNet1.0'"
   ]
  },
  {
   "cell_type": "markdown",
   "metadata": {
    "deletable": false,
    "editable": false,
    "nbgrader": {
     "cell_type": "markdown",
     "checksum": "388ccb63dec92a49596f7df57b23dc1b",
     "grade": false,
     "grade_id": "cell-cb6ed8a232c9149f",
     "locked": true,
     "schema_version": 3,
     "solution": false,
     "task": false
    }
   },
   "source": [
    "### 4) Using a model\n",
    "\n",
    "Your next task is to pass your transformed image through the network to obtain predicted probabilities for all ImageNet classes.\n",
    "\n",
    "We'll ignore the requirement of creating just a tennis ball classifier for now.\n",
    "\n",
    "**Hint #1**: Don't forget that you're typically working with a batch of images, even when you only have one image.\n",
    "\n",
    "**Hint #2**: Remember that the direct outputs of our network aren't probabilities."
   ]
  },
  {
   "cell_type": "code",
   "execution_count": 182,
   "metadata": {
    "deletable": false,
    "nbgrader": {
     "cell_type": "code",
     "checksum": "493e8e54d8749d5faf92ce692769b68f",
     "grade": false,
     "grade_id": "cell-cb2beea7e1157ed5",
     "locked": false,
     "schema_version": 3,
     "solution": true,
     "task": false
    }
   },
   "outputs": [],
   "source": [
    "def predict_probabilities(network, data):\n",
    "    \"\"\"\n",
    "    Should return the predicted probabilities of ImageNet classes for the given image.\n",
    "    \n",
    "    :param network: pre-trained image classification model\n",
    "    :type network: mx.gluon.Block\n",
    "    :param data: batch of transformed images of shape (1, 3, 224, 224)\n",
    "    :type data: mx.nd.NDArray\n",
    "    \n",
    "    :return: array of probabilities of shape (1000,)\n",
    "    :rtype: mx.nd.NDArray\n",
    "    \"\"\"\n",
    "    # YOUR CODE HERE\n",
    "    return mx.nd.softmax(network(data)[0])\n"
   ]
  },
  {
   "cell_type": "code",
   "execution_count": 183,
   "metadata": {
    "deletable": false,
    "editable": false,
    "nbgrader": {
     "cell_type": "code",
     "checksum": "8c44c01f25323dd938cb023437c7e740",
     "grade": true,
     "grade_id": "cell-a71bb9e695e4e6a8",
     "locked": true,
     "points": 3,
     "schema_version": 3,
     "solution": false,
     "task": false
    }
   },
   "outputs": [],
   "source": [
    "pred_probas = predict_probabilities(network, transformed_test_output)\n",
    "assert pred_probas.shape == (1000,)\n",
    "np.testing.assert_almost_equal(pred_probas.sum().asscalar(), 1, decimal=5)\n",
    "assert pred_probas.dtype == np.float32"
   ]
  },
  {
   "cell_type": "markdown",
   "metadata": {
    "deletable": false,
    "editable": false,
    "nbgrader": {
     "cell_type": "markdown",
     "checksum": "c01032b3ac41c3f854ef897dd4fde8a8",
     "grade": false,
     "grade_id": "cell-9ac40c97402864db",
     "locked": true,
     "schema_version": 3,
     "solution": false,
     "task": false
    }
   },
   "source": [
    "### 5) Finding Class Label\n",
    "\n",
    "Since we're only interested in tennis ball classification for now, we need a method of finding the probability associated with tennis ball out of the 1000 classes.\n",
    "\n",
    "You should implement a function that returns the index of a given class label (e.g. `admiral` is index `321`)\n",
    "\n",
    "**Hint**: you're allowed to use variables that are defined globally on this occasion. You should think about which objects that have been previously defined has a list of class labels."
   ]
  },
  {
   "cell_type": "code",
   "execution_count": 184,
   "metadata": {
    "deletable": false,
    "nbgrader": {
     "cell_type": "code",
     "checksum": "338070baa3a639e2fafd4cffc2ac5961",
     "grade": false,
     "grade_id": "cell-1fc4749aa4a13adc",
     "locked": false,
     "schema_version": 3,
     "solution": true,
     "task": false
    }
   },
   "outputs": [],
   "source": [
    "def find_class_idx(label):\n",
    "    \"\"\"\n",
    "    Should return the class index of a particular label.\n",
    "    \n",
    "    :param label: label of class\n",
    "    :type label: str\n",
    "    \n",
    "    :return: class index\n",
    "    :rtype: int\n",
    "    \"\"\"\n",
    "    # YOUR CODE HERE\n",
    "    for i in range(len(network.classes)):\n",
    "        if label == network.classes[i]: return i"
   ]
  },
  {
   "cell_type": "code",
   "execution_count": 185,
   "metadata": {
    "deletable": false,
    "editable": false,
    "nbgrader": {
     "cell_type": "code",
     "checksum": "1c1ac62c69546e1a90554d9e80e3a844",
     "grade": true,
     "grade_id": "cell-bfbe65d200085afc",
     "locked": true,
     "points": 1,
     "schema_version": 3,
     "solution": false,
     "task": false
    }
   },
   "outputs": [],
   "source": [
    "assert find_class_idx('tennis ball') == 852\n",
    "assert find_class_idx('spiny lobster') == 123\n",
    "assert find_class_idx('admiral') == 321"
   ]
  },
  {
   "cell_type": "markdown",
   "metadata": {
    "deletable": false,
    "editable": false,
    "nbgrader": {
     "cell_type": "markdown",
     "checksum": "abaff373cd664ff7f65e251a59103e56",
     "grade": false,
     "grade_id": "cell-5bda80efe4c837c5",
     "locked": true,
     "schema_version": 3,
     "solution": false,
     "task": false
    }
   },
   "source": [
    "### 6) Slice Tennis Ball Class\n",
    "\n",
    "Using the above function to find the correct index for tennis ball, you should implement a function to slice the calculated probability for tennis ball from the 1000 class probabilities calculated by the network. It should also convert the probability from MXNet `NDArray` to a NumPy `float32`.\n",
    "\n",
    "We'll use this for our confidence score that the image is a tennis ball."
   ]
  },
  {
   "cell_type": "code",
   "execution_count": 186,
   "metadata": {
    "deletable": false,
    "nbgrader": {
     "cell_type": "code",
     "checksum": "fd142bc4ec6b5913fbbf3724634446ca",
     "grade": false,
     "grade_id": "cell-b8d7512b1054658b",
     "locked": false,
     "schema_version": 3,
     "solution": true,
     "task": false
    }
   },
   "outputs": [],
   "source": [
    "def slice_tennis_ball_class(pred_probas):\n",
    "    \"\"\"\n",
    "    Extracts the probability associated with tennis ball.\n",
    "    \n",
    "    :param pred_probas: array of ImageNet probabilities of shape (1000,)\n",
    "    :type pred_probas: mx.nd.NDArray\n",
    "    \n",
    "    :return: probability of tennis ball\n",
    "    :rtype: np.float32\n",
    "    \n",
    "    \"\"\"\n",
    "    # YOUR CODE HERE\n",
    "    prob = pred_probas[find_class_idx('tennis ball')]\n",
    "    return prob.astype('float32').asscalar()"
   ]
  },
  {
   "cell_type": "code",
   "execution_count": 187,
   "metadata": {
    "deletable": false,
    "editable": false,
    "nbgrader": {
     "cell_type": "code",
     "checksum": "32af30486a49973735af8cdccef8b54f",
     "grade": true,
     "grade_id": "cell-4143f80dda7332ac",
     "locked": true,
     "points": 1,
     "schema_version": 3,
     "solution": false,
     "task": false
    }
   },
   "outputs": [],
   "source": [
    "pred_proba_tennis_ball = slice_tennis_ball_class(pred_probas)\n",
    "assert isinstance(pred_proba_tennis_ball, np.float32)\n",
    "np.testing.assert_almost_equal(pred_proba_tennis_ball, 0.9987876, decimal=3)"
   ]
  },
  {
   "cell_type": "markdown",
   "metadata": {},
   "source": [
    "### 7) Classify Tennis Ball Images\n",
    "\n",
    "We'll finish this assignment by bringing all of the components together and creating a `TennisBallClassifier` to classify images. You should implement the entire classification pipeline inside the `classify` function using the functions defined earlier on in the assignment. You should notice that the pre-trained model is loaded once during initialization, and then it should be used inside the `classify` method."
   ]
  },
  {
   "cell_type": "code",
   "execution_count": 188,
   "metadata": {
    "deletable": false,
    "nbgrader": {
     "cell_type": "code",
     "checksum": "26fe7545742f39b48ac4b22025ef6f66",
     "grade": false,
     "grade_id": "cell-000381996ad6d016",
     "locked": false,
     "schema_version": 3,
     "solution": true,
     "task": false
    }
   },
   "outputs": [],
   "source": [
    "class TennisBallClassifier():\n",
    "    def __init__(self):\n",
    "        self._network = load_pretrained_classification_network()\n",
    "        \n",
    "    def classify(self, filepath):\n",
    "        # YOUR CODE HERE\n",
    "        img = load_image(filepath)\n",
    "        transformed_image = transform_image(img)\n",
    "        self._visualize(transformed_image)\n",
    "        # YOUR CODE HERE\n",
    "        probs = predict_probabilities(self._network, transformed_image)\n",
    "        pred_proba = slice_tennis_ball_class(probs)   \n",
    "        print('{0:.2%} confidence that image is a tennis ball.'.format(pred_proba))\n",
    "        return pred_proba\n",
    "    \n",
    "    def _visualize(self, transformed_image):\n",
    "        \"\"\"\n",
    "        Since the transformed_image is in NCHW layout and the values are normalized,\n",
    "        this method slices and transposes to give CHW as required by matplotlib,\n",
    "        and scales (-2, +2) to (0, 255) linearly.\n",
    "        \"\"\"\n",
    "        chw_image = transformed_image[0].transpose((1,2,0))\n",
    "        chw_image = ((chw_image * 64) + 128).clip(0, 255).astype('uint8')\n",
    "        plt.imshow(chw_image.asnumpy())"
   ]
  },
  {
   "cell_type": "code",
   "execution_count": 189,
   "metadata": {
    "deletable": false,
    "editable": false,
    "nbgrader": {
     "cell_type": "code",
     "checksum": "5af032b313590a170fcf4bc86385ab49",
     "grade": false,
     "grade_id": "cell-238e9069accbc6b5",
     "locked": true,
     "schema_version": 3,
     "solution": false,
     "task": false
    }
   },
   "outputs": [],
   "source": [
    "classifier = TennisBallClassifier()"
   ]
  },
  {
   "cell_type": "code",
   "execution_count": 192,
   "metadata": {
    "deletable": false,
    "editable": false,
    "nbgrader": {
     "cell_type": "code",
     "checksum": "33df28297e1a91012ed38556987220aa",
     "grade": true,
     "grade_id": "cell-421a56458b6a7a51",
     "locked": true,
     "points": 1,
     "schema_version": 3,
     "solution": false,
     "task": false
    }
   },
   "outputs": [
    {
     "output_type": "stream",
     "name": "stdout",
     "text": "shape: (399, 640, 3)\ndata type:  <class 'numpy.uint8'>\nmin value: 0\nmax value: 255\n99.99% confidence that image is a tennis ball.\n"
    },
    {
     "output_type": "error",
     "ename": "AssertionError",
     "evalue": "\nArrays are not almost equal to 3 decimals\n ACTUAL: 0.99985933\n DESIRED: 2.0355723e-05",
     "traceback": [
      "\u001b[1;31m---------------------------------------------------------------------------\u001b[0m",
      "\u001b[1;31mAssertionError\u001b[0m                            Traceback (most recent call last)",
      "\u001b[1;32m<ipython-input-192-9fdb295d88ed>\u001b[0m in \u001b[0;36m<module>\u001b[1;34m\u001b[0m\n\u001b[0;32m      2\u001b[0m \u001b[0mfilepath\u001b[0m \u001b[1;33m=\u001b[0m \u001b[1;34m\"stock/tennisball.jpg\"\u001b[0m\u001b[1;33m\u001b[0m\u001b[1;33m\u001b[0m\u001b[0m\n\u001b[0;32m      3\u001b[0m \u001b[0mpred_proba\u001b[0m \u001b[1;33m=\u001b[0m \u001b[0mclassifier\u001b[0m\u001b[1;33m.\u001b[0m\u001b[0mclassify\u001b[0m\u001b[1;33m(\u001b[0m\u001b[0mfilepath\u001b[0m\u001b[1;33m)\u001b[0m\u001b[1;33m\u001b[0m\u001b[1;33m\u001b[0m\u001b[0m\n\u001b[1;32m----> 4\u001b[1;33m \u001b[0mnp\u001b[0m\u001b[1;33m.\u001b[0m\u001b[0mtesting\u001b[0m\u001b[1;33m.\u001b[0m\u001b[0massert_almost_equal\u001b[0m\u001b[1;33m(\u001b[0m\u001b[0mpred_proba\u001b[0m\u001b[1;33m,\u001b[0m \u001b[1;36m2.0355723e-05\u001b[0m\u001b[1;33m,\u001b[0m \u001b[0mdecimal\u001b[0m\u001b[1;33m=\u001b[0m\u001b[1;36m3\u001b[0m\u001b[1;33m)\u001b[0m\u001b[1;33m\u001b[0m\u001b[1;33m\u001b[0m\u001b[0m\n\u001b[0m",
      "\u001b[1;32m~\\AppData\\Local\\Programs\\Python\\Python37\\lib\\site-packages\\numpy\\testing\\_private\\utils.py\u001b[0m in \u001b[0;36massert_almost_equal\u001b[1;34m(actual, desired, decimal, err_msg, verbose)\u001b[0m\n\u001b[0;32m    614\u001b[0m         \u001b[1;32mpass\u001b[0m\u001b[1;33m\u001b[0m\u001b[1;33m\u001b[0m\u001b[0m\n\u001b[0;32m    615\u001b[0m     \u001b[1;32mif\u001b[0m \u001b[0mabs\u001b[0m\u001b[1;33m(\u001b[0m\u001b[0mdesired\u001b[0m \u001b[1;33m-\u001b[0m \u001b[0mactual\u001b[0m\u001b[1;33m)\u001b[0m \u001b[1;33m>=\u001b[0m \u001b[1;36m1.5\u001b[0m \u001b[1;33m*\u001b[0m \u001b[1;36m10.0\u001b[0m\u001b[1;33m**\u001b[0m\u001b[1;33m(\u001b[0m\u001b[1;33m-\u001b[0m\u001b[0mdecimal\u001b[0m\u001b[1;33m)\u001b[0m\u001b[1;33m:\u001b[0m\u001b[1;33m\u001b[0m\u001b[1;33m\u001b[0m\u001b[0m\n\u001b[1;32m--> 616\u001b[1;33m         \u001b[1;32mraise\u001b[0m \u001b[0mAssertionError\u001b[0m\u001b[1;33m(\u001b[0m\u001b[0m_build_err_msg\u001b[0m\u001b[1;33m(\u001b[0m\u001b[1;33m)\u001b[0m\u001b[1;33m)\u001b[0m\u001b[1;33m\u001b[0m\u001b[1;33m\u001b[0m\u001b[0m\n\u001b[0m\u001b[0;32m    617\u001b[0m \u001b[1;33m\u001b[0m\u001b[0m\n\u001b[0;32m    618\u001b[0m \u001b[1;33m\u001b[0m\u001b[0m\n",
      "\u001b[1;31mAssertionError\u001b[0m: \nArrays are not almost equal to 3 decimals\n ACTUAL: 0.99985933\n DESIRED: 2.0355723e-05"
     ]
    }
   ],
   "source": [
    "filepath = Path(M3_IMAGES, 'erik-mclean-D23_XPbsx-8-unsplash.jpg')\n",
    "# filepath = \"stock/tennisball.jpg\"\n",
    "pred_proba = classifier.classify(filepath)\n",
    "np.testing.assert_almost_equal(pred_proba, 2.0355723e-05, decimal=3)"
   ]
  },
  {
   "cell_type": "code",
   "execution_count": 191,
   "metadata": {
    "deletable": false,
    "editable": false,
    "nbgrader": {
     "cell_type": "code",
     "checksum": "d292cc25337b460f40f75e5c2aa472c3",
     "grade": true,
     "grade_id": "cell-4879276f61efe804",
     "locked": true,
     "points": 1,
     "schema_version": 3,
     "solution": false,
     "task": false
    }
   },
   "outputs": [
    {
     "output_type": "error",
     "ename": "MXNetError",
     "evalue": "[17:37:29] C:\\Jenkins\\workspace\\mxnet-tag\\mxnet\\src\\io\\image_io.cc:223: Check failed: file.is_open(): Imread: '..\\..\\data\\module_3\\images\\marvin-ronsdorf-CA998Anw2Lg-unsplash.jpg' couldn't open file: No such file or directory",
     "traceback": [
      "\u001b[1;31m---------------------------------------------------------------------------\u001b[0m",
      "\u001b[1;31mMXNetError\u001b[0m                                Traceback (most recent call last)",
      "\u001b[1;32m<ipython-input-191-e923ebea20e1>\u001b[0m in \u001b[0;36m<module>\u001b[1;34m\u001b[0m\n\u001b[0;32m      1\u001b[0m \u001b[0mfilepath\u001b[0m \u001b[1;33m=\u001b[0m \u001b[0mPath\u001b[0m\u001b[1;33m(\u001b[0m\u001b[0mM3_IMAGES\u001b[0m\u001b[1;33m,\u001b[0m \u001b[1;34m'marvin-ronsdorf-CA998Anw2Lg-unsplash.jpg'\u001b[0m\u001b[1;33m)\u001b[0m\u001b[1;33m\u001b[0m\u001b[1;33m\u001b[0m\u001b[0m\n\u001b[1;32m----> 2\u001b[1;33m \u001b[0mpred_proba\u001b[0m \u001b[1;33m=\u001b[0m \u001b[0mclassifier\u001b[0m\u001b[1;33m.\u001b[0m\u001b[0mclassify\u001b[0m\u001b[1;33m(\u001b[0m\u001b[0mfilepath\u001b[0m\u001b[1;33m)\u001b[0m\u001b[1;33m\u001b[0m\u001b[1;33m\u001b[0m\u001b[0m\n\u001b[0m\u001b[0;32m      3\u001b[0m \u001b[0mnp\u001b[0m\u001b[1;33m.\u001b[0m\u001b[0mtesting\u001b[0m\u001b[1;33m.\u001b[0m\u001b[0massert_almost_equal\u001b[0m\u001b[1;33m(\u001b[0m\u001b[0mpred_proba\u001b[0m\u001b[1;33m,\u001b[0m \u001b[1;36m0.9988895\u001b[0m\u001b[1;33m,\u001b[0m \u001b[0mdecimal\u001b[0m\u001b[1;33m=\u001b[0m\u001b[1;36m3\u001b[0m\u001b[1;33m)\u001b[0m\u001b[1;33m\u001b[0m\u001b[1;33m\u001b[0m\u001b[0m\n",
      "\u001b[1;32m<ipython-input-188-602b2e199d93>\u001b[0m in \u001b[0;36mclassify\u001b[1;34m(self, filepath)\u001b[0m\n\u001b[0;32m      5\u001b[0m     \u001b[1;32mdef\u001b[0m \u001b[0mclassify\u001b[0m\u001b[1;33m(\u001b[0m\u001b[0mself\u001b[0m\u001b[1;33m,\u001b[0m \u001b[0mfilepath\u001b[0m\u001b[1;33m)\u001b[0m\u001b[1;33m:\u001b[0m\u001b[1;33m\u001b[0m\u001b[1;33m\u001b[0m\u001b[0m\n\u001b[0;32m      6\u001b[0m         \u001b[1;31m# YOUR CODE HERE\u001b[0m\u001b[1;33m\u001b[0m\u001b[1;33m\u001b[0m\u001b[1;33m\u001b[0m\u001b[0m\n\u001b[1;32m----> 7\u001b[1;33m         \u001b[0mimg\u001b[0m \u001b[1;33m=\u001b[0m \u001b[0mload_image\u001b[0m\u001b[1;33m(\u001b[0m\u001b[0mfilepath\u001b[0m\u001b[1;33m)\u001b[0m\u001b[1;33m\u001b[0m\u001b[1;33m\u001b[0m\u001b[0m\n\u001b[0m\u001b[0;32m      8\u001b[0m         \u001b[0mtransformed_image\u001b[0m \u001b[1;33m=\u001b[0m \u001b[0mtransform_image\u001b[0m\u001b[1;33m(\u001b[0m\u001b[0mimg\u001b[0m\u001b[1;33m)\u001b[0m\u001b[1;33m\u001b[0m\u001b[1;33m\u001b[0m\u001b[0m\n\u001b[0;32m      9\u001b[0m         \u001b[0mself\u001b[0m\u001b[1;33m.\u001b[0m\u001b[0m_visualize\u001b[0m\u001b[1;33m(\u001b[0m\u001b[0mtransformed_image\u001b[0m\u001b[1;33m)\u001b[0m\u001b[1;33m\u001b[0m\u001b[1;33m\u001b[0m\u001b[0m\n",
      "\u001b[1;32m<ipython-input-176-5ff0662ddec4>\u001b[0m in \u001b[0;36mload_image\u001b[1;34m(filepath)\u001b[0m\n\u001b[0;32m     10\u001b[0m     \"\"\"\n\u001b[0;32m     11\u001b[0m     \u001b[1;31m# YOUR CODE HERE\u001b[0m\u001b[1;33m\u001b[0m\u001b[1;33m\u001b[0m\u001b[1;33m\u001b[0m\u001b[0m\n\u001b[1;32m---> 12\u001b[1;33m     \u001b[0mimage\u001b[0m \u001b[1;33m=\u001b[0m \u001b[0mmx\u001b[0m\u001b[1;33m.\u001b[0m\u001b[0mimage\u001b[0m\u001b[1;33m.\u001b[0m\u001b[0mimread\u001b[0m\u001b[1;33m(\u001b[0m\u001b[0mfilepath\u001b[0m\u001b[1;33m)\u001b[0m\u001b[1;33m\u001b[0m\u001b[1;33m\u001b[0m\u001b[0m\n\u001b[0m\u001b[0;32m     13\u001b[0m \u001b[1;33m\u001b[0m\u001b[0m\n\u001b[0;32m     14\u001b[0m     \u001b[0mprint\u001b[0m\u001b[1;33m(\u001b[0m\u001b[1;34m'shape:'\u001b[0m\u001b[1;33m,\u001b[0m \u001b[0mimage\u001b[0m\u001b[1;33m.\u001b[0m\u001b[0mshape\u001b[0m\u001b[1;33m)\u001b[0m\u001b[1;33m\u001b[0m\u001b[1;33m\u001b[0m\u001b[0m\n",
      "\u001b[1;32m~\\AppData\\Local\\Programs\\Python\\Python37\\lib\\site-packages\\mxnet\\image\\image.py\u001b[0m in \u001b[0;36mimread\u001b[1;34m(filename, *args, **kwargs)\u001b[0m\n\u001b[0;32m     88\u001b[0m     \u001b[1;32melse\u001b[0m\u001b[1;33m:\u001b[0m\u001b[1;33m\u001b[0m\u001b[1;33m\u001b[0m\u001b[0m\n\u001b[0;32m     89\u001b[0m         \u001b[0mread_fn\u001b[0m \u001b[1;33m=\u001b[0m \u001b[0m_internal\u001b[0m\u001b[1;33m.\u001b[0m\u001b[0m_cvimread\u001b[0m\u001b[1;33m\u001b[0m\u001b[1;33m\u001b[0m\u001b[0m\n\u001b[1;32m---> 90\u001b[1;33m     \u001b[1;32mreturn\u001b[0m \u001b[0mread_fn\u001b[0m\u001b[1;33m(\u001b[0m\u001b[0mfilename\u001b[0m\u001b[1;33m,\u001b[0m \u001b[1;33m*\u001b[0m\u001b[0margs\u001b[0m\u001b[1;33m,\u001b[0m \u001b[1;33m**\u001b[0m\u001b[0mkwargs\u001b[0m\u001b[1;33m)\u001b[0m\u001b[1;33m\u001b[0m\u001b[1;33m\u001b[0m\u001b[0m\n\u001b[0m\u001b[0;32m     91\u001b[0m \u001b[1;33m\u001b[0m\u001b[0m\n\u001b[0;32m     92\u001b[0m \u001b[1;33m\u001b[0m\u001b[0m\n",
      "\u001b[1;32m~\\AppData\\Local\\Programs\\Python\\Python37\\lib\\site-packages\\mxnet\\ndarray\\register.py\u001b[0m in \u001b[0;36m_cvimread\u001b[1;34m(filename, flag, to_rgb, out, name, **kwargs)\u001b[0m\n",
      "\u001b[1;32m~\\AppData\\Local\\Programs\\Python\\Python37\\lib\\site-packages\\mxnet\\_ctypes\\ndarray.py\u001b[0m in \u001b[0;36m_imperative_invoke\u001b[1;34m(handle, ndargs, keys, vals, out, is_np_op)\u001b[0m\n\u001b[0;32m    105\u001b[0m         \u001b[0mc_str_array\u001b[0m\u001b[1;33m(\u001b[0m\u001b[0mkeys\u001b[0m\u001b[1;33m)\u001b[0m\u001b[1;33m,\u001b[0m\u001b[1;33m\u001b[0m\u001b[1;33m\u001b[0m\u001b[0m\n\u001b[0;32m    106\u001b[0m         \u001b[0mc_str_array\u001b[0m\u001b[1;33m(\u001b[0m\u001b[1;33m[\u001b[0m\u001b[0mstr\u001b[0m\u001b[1;33m(\u001b[0m\u001b[0ms\u001b[0m\u001b[1;33m)\u001b[0m \u001b[1;32mfor\u001b[0m \u001b[0ms\u001b[0m \u001b[1;32min\u001b[0m \u001b[0mvals\u001b[0m\u001b[1;33m]\u001b[0m\u001b[1;33m)\u001b[0m\u001b[1;33m,\u001b[0m\u001b[1;33m\u001b[0m\u001b[1;33m\u001b[0m\u001b[0m\n\u001b[1;32m--> 107\u001b[1;33m         ctypes.byref(out_stypes)))\n\u001b[0m\u001b[0;32m    108\u001b[0m \u001b[1;33m\u001b[0m\u001b[0m\n\u001b[0;32m    109\u001b[0m     \u001b[0mcreate_ndarray_fn\u001b[0m \u001b[1;33m=\u001b[0m \u001b[0m_np_ndarray_cls\u001b[0m \u001b[1;32mif\u001b[0m \u001b[0mis_np_op\u001b[0m \u001b[1;32melse\u001b[0m \u001b[0m_ndarray_cls\u001b[0m\u001b[1;33m\u001b[0m\u001b[1;33m\u001b[0m\u001b[0m\n",
      "\u001b[1;32m~\\AppData\\Local\\Programs\\Python\\Python37\\lib\\site-packages\\mxnet\\base.py\u001b[0m in \u001b[0;36mcheck_call\u001b[1;34m(ret)\u001b[0m\n\u001b[0;32m    253\u001b[0m     \"\"\"\n\u001b[0;32m    254\u001b[0m     \u001b[1;32mif\u001b[0m \u001b[0mret\u001b[0m \u001b[1;33m!=\u001b[0m \u001b[1;36m0\u001b[0m\u001b[1;33m:\u001b[0m\u001b[1;33m\u001b[0m\u001b[1;33m\u001b[0m\u001b[0m\n\u001b[1;32m--> 255\u001b[1;33m         \u001b[1;32mraise\u001b[0m \u001b[0mMXNetError\u001b[0m\u001b[1;33m(\u001b[0m\u001b[0mpy_str\u001b[0m\u001b[1;33m(\u001b[0m\u001b[0m_LIB\u001b[0m\u001b[1;33m.\u001b[0m\u001b[0mMXGetLastError\u001b[0m\u001b[1;33m(\u001b[0m\u001b[1;33m)\u001b[0m\u001b[1;33m)\u001b[0m\u001b[1;33m)\u001b[0m\u001b[1;33m\u001b[0m\u001b[1;33m\u001b[0m\u001b[0m\n\u001b[0m\u001b[0;32m    256\u001b[0m \u001b[1;33m\u001b[0m\u001b[0m\n\u001b[0;32m    257\u001b[0m \u001b[1;33m\u001b[0m\u001b[0m\n",
      "\u001b[1;31mMXNetError\u001b[0m: [17:37:29] C:\\Jenkins\\workspace\\mxnet-tag\\mxnet\\src\\io\\image_io.cc:223: Check failed: file.is_open(): Imread: '..\\..\\data\\module_3\\images\\marvin-ronsdorf-CA998Anw2Lg-unsplash.jpg' couldn't open file: No such file or directory"
     ]
    }
   ],
   "source": [
    "filepath = Path(M3_IMAGES, 'marvin-ronsdorf-CA998Anw2Lg-unsplash.jpg')\n",
    "pred_proba = classifier.classify(filepath)\n",
    "np.testing.assert_almost_equal(pred_proba, 0.9988895, decimal=3)"
   ]
  }
 ],
 "metadata": {
  "coursera": {
   "assignment_name": "module_3",
   "assignment_version": 2,
   "course_slug": "aws-computer-vision-gluoncv",
   "graded_item_id": "xQcji",
   "launcher_item_id": "7m20e"
  },
  "kernelspec": {
   "display_name": "Python 3",
   "language": "python",
   "name": "python3"
  },
  "language_info": {
   "codemirror_mode": {
    "name": "ipython",
    "version": 3
   },
   "file_extension": ".py",
   "mimetype": "text/x-python",
   "name": "python",
   "nbconvert_exporter": "python",
   "pygments_lexer": "ipython3",
   "version": "3.7.4-final"
  }
 },
 "nbformat": 4,
 "nbformat_minor": 2
}