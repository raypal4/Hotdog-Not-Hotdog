{
 "cells": [
  {
   "cell_type": "code",
   "execution_count": 10,
   "metadata": {},
   "outputs": [],
   "source": [
    "import mxnet as mx\n",
    "import gluoncv as gcv\n",
    "\n",
    "def tenniballChecker(image):\n",
    "    image = mx.image.imread(image)\n",
    "    image = gcv.data.transforms.presets.imagenet.transform_eval(image)\n",
    "\n",
    "    nw = gcv.model_zoo.resnet50_v1d(pretrained=True)\n",
    "    prediction = nw(image)\n",
    "    prediction = prediction[0]\n",
    "\n",
    "    probability = mx.nd.softmax(prediction)\n",
    "\n",
    "    rounded_prob = mx.nd.round(probability*100)/100\n",
    "\n",
    "    topProbObject = mx.nd.topk(probability, k=1)\n",
    "\n",
    "    # asscalar is used to convert an MXNet ND array with one element to a Python literal.\n",
    "    class_i = topProbObject[0].astype('int').asscalar()\n",
    "    class_label = nw.classes[class_i]\n",
    "    class_prob = probability[class_i]\n",
    "    # print('#1 ', class_label, class_prob.asscalar()*100)\n",
    "    if class_i == 852:\n",
    "        return 'Tennis Ball'\n",
    "    else:\n",
    "        return 'Not Tennis Ball'"
   ]
  },
  {
   "cell_type": "code",
   "execution_count": 11,
   "metadata": {},
   "outputs": [
    {
     "output_type": "stream",
     "name": "stdout",
     "text": "#1  tennis ball 84.71252918243408\nTennis Ball\n"
    }
   ],
   "source": [
    "img_filepath = \"stock/tennisball.jpg\"\n",
    "result = tenniballChecker(img_filepath)\n",
    "print(result)"
   ]
  },
  {
   "cell_type": "code",
   "execution_count": 12,
   "metadata": {},
   "outputs": [
    {
     "output_type": "stream",
     "name": "stdout",
     "text": "#1  hotdog 90.72149991989136\nNot Tennis Ball\n"
    }
   ],
   "source": [
    "img_filepath = \"stock/hotdog.jpg\"\n",
    "result = tenniballChecker(img_filepath)\n",
    "print(result)"
   ]
  }
 ],
 "metadata": {
  "language_info": {
   "codemirror_mode": {
    "name": "ipython",
    "version": 3
   },
   "file_extension": ".py",
   "mimetype": "text/x-python",
   "name": "python",
   "nbconvert_exporter": "python",
   "pygments_lexer": "ipython3",
   "version": "3.7.4-final"
  },
  "orig_nbformat": 2,
  "kernelspec": {
   "name": "python37464bitcd035602ee7f43a59331452345734945",
   "display_name": "Python 3.7.4 64-bit"
  }
 },
 "nbformat": 4,
 "nbformat_minor": 2
}