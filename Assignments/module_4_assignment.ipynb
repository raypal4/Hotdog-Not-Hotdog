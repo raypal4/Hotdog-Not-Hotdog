{
 "cells": [
  {
   "cell_type": "markdown",
   "metadata": {
    "deletable": false,
    "editable": false,
    "nbgrader": {
     "cell_type": "markdown",
     "checksum": "5074b9d54a7c4c8dae2324b8cb78e503",
     "grade": false,
     "grade_id": "cell-fc0b22c123cbdd06",
     "locked": true,
     "schema_version": 3,
     "solution": false,
     "task": false
    }
   },
   "source": [
    "# Module 4 Assignment\n",
    "\n",
    "In this assignment, you'll use some of the key concepts from the module to create a neural network for image classification of items of clothing. Step one will be to normalize the input images, and you'll use NDArray operations to calculate the channel mean. You'll create a function to evaluate the performance of networks on the data, and construct a couple of different neural networks for image classification."
   ]
  },
  {
   "cell_type": "markdown",
   "metadata": {
    "deletable": false,
    "editable": false,
    "nbgrader": {
     "cell_type": "markdown",
     "checksum": "f2bccf9794a4c9efd92100928a3f022e",
     "grade": false,
     "grade_id": "cell-abb560c26ec49a12",
     "locked": true,
     "schema_version": 3,
     "solution": false,
     "task": false
    }
   },
   "source": [
    "## 0) Setup\n",
    "\n",
    "We start with a number of required imports and set the data paths."
   ]
  },
  {
   "cell_type": "code",
   "execution_count": 36,
   "metadata": {
    "deletable": false,
    "editable": false,
    "nbgrader": {
     "cell_type": "code",
     "checksum": "e397a0e3a9f2b4ad956a4b67efb70529",
     "grade": false,
     "grade_id": "cell-f6bddc494c867188",
     "locked": true,
     "schema_version": 3,
     "solution": false,
     "task": false
    }
   },
   "outputs": [],
   "source": [
    "from matplotlib import pyplot as plt\n",
    "import mxnet as mx\n",
    "from mxnet.gluon.data.vision import transforms\n",
    "from mxnet.gluon.data.vision import FashionMNIST\n",
    "import numpy as np\n",
    "import os\n",
    "from pathlib import Path\n",
    "from tqdm import tqdm"
   ]
  },
  {
   "cell_type": "code",
   "execution_count": 37,
   "metadata": {
    "deletable": false,
    "editable": false,
    "nbgrader": {
     "cell_type": "code",
     "checksum": "340f681667b511ce348ad946ab4617c9",
     "grade": false,
     "grade_id": "cell-5f7e8a74007e1017",
     "locked": true,
     "schema_version": 3,
     "solution": false,
     "task": false
    }
   },
   "outputs": [],
   "source": [
    "M4_DATA = Path(os.getenv('DATA_DIR', '../../data'), 'module_4')\n",
    "M4_IMAGES = Path(M4_DATA, 'images')\n",
    "M4_MODELS = Path(M4_DATA, 'models')"
   ]
  },
  {
   "cell_type": "markdown",
   "metadata": {
    "deletable": false,
    "editable": false,
    "nbgrader": {
     "cell_type": "markdown",
     "checksum": "bb710ee3e61851413d0efa8fa50e44b5",
     "grade": false,
     "grade_id": "cell-95f0a503b6239c30",
     "locked": true,
     "schema_version": 3,
     "solution": false,
     "task": false
    }
   },
   "source": [
    "## 1) Data (& NDArray Operations)\n",
    "\n",
    "We'll use the in-built dataset called `FashionMNIST` which is a variant of the commonly used `MNIST` dataset. It consists of 60,000 training images and 10,000 test images, and each image is a 28px by 28px greyscale image. We'll start by creating the `dataset` and visualize an example image."
   ]
  },
  {
   "cell_type": "code",
   "execution_count": 38,
   "metadata": {
    "deletable": false,
    "editable": false,
    "nbgrader": {
     "cell_type": "code",
     "checksum": "1ed040aeb4a6597a4b1b6732e5ea1758",
     "grade": false,
     "grade_id": "cell-ddb747acaf729e37",
     "locked": true,
     "schema_version": 3,
     "solution": false,
     "task": false
    }
   },
   "outputs": [],
   "source": [
    "test_dataset = FashionMNIST(train=False, root=M4_IMAGES).transform_first(transforms.ToTensor())"
   ]
  },
  {
   "cell_type": "code",
   "execution_count": 39,
   "metadata": {},
   "outputs": [
    {
     "output_type": "execute_result",
     "data": {
      "text/plain": "<matplotlib.image.AxesImage at 0x1e61f4aa108>"
     },
     "metadata": {},
     "execution_count": 39
    },
    {
     "output_type": "display_data",
     "data": {
      "text/plain": "<Figure size 432x288 with 1 Axes>",
      "image/svg+xml": "<?xml version=\"1.0\" encoding=\"utf-8\" standalone=\"no\"?>\r\n<!DOCTYPE svg PUBLIC \"-//W3C//DTD SVG 1.1//EN\"\r\n  \"http://www.w3.org/Graphics/SVG/1.1/DTD/svg11.dtd\">\r\n<!-- Created with matplotlib (https://matplotlib.org/) -->\r\n<svg height=\"248.518125pt\" version=\"1.1\" viewBox=\"0 0 251.565 248.518125\" width=\"251.565pt\" xmlns=\"http://www.w3.org/2000/svg\" xmlns:xlink=\"http://www.w3.org/1999/xlink\">\r\n <defs>\r\n  <style type=\"text/css\">\r\n*{stroke-linecap:butt;stroke-linejoin:round;}\r\n  </style>\r\n </defs>\r\n <g id=\"figure_1\">\r\n  <g id=\"patch_1\">\r\n   <path d=\"M 0 248.518125 \r\nL 251.565 248.518125 \r\nL 251.565 0 \r\nL 0 0 \r\nz\r\n\" style=\"fill:none;\"/>\r\n  </g>\r\n  <g id=\"axes_1\">\r\n   <g id=\"patch_2\">\r\n    <path d=\"M 26.925 224.64 \r\nL 244.365 224.64 \r\nL 244.365 7.2 \r\nL 26.925 7.2 \r\nz\r\n\" style=\"fill:#ffffff;\"/>\r\n   </g>\r\n   <g clip-path=\"url(#p22738d8042)\">\r\n    <image height=\"218\" id=\"image53e3da6eb9\" transform=\"scale(1 -1)translate(0 -218)\" width=\"218\" x=\"26.925\" xlink:href=\"data:image/png;base64,\r\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\" y=\"-6.64\"/>\r\n   </g>\r\n   <g id=\"matplotlib.axis_1\">\r\n    <g id=\"xtick_1\">\r\n     <g id=\"line2d_1\">\r\n      <defs>\r\n       <path d=\"M 0 0 \r\nL 0 3.5 \r\n\" id=\"m7a22284026\" style=\"stroke:#000000;stroke-width:0.8;\"/>\r\n      </defs>\r\n      <g>\r\n       <use style=\"stroke:#000000;stroke-width:0.8;\" x=\"30.807857\" xlink:href=\"#m7a22284026\" y=\"224.64\"/>\r\n      </g>\r\n     </g>\r\n     <g id=\"text_1\">\r\n      <!-- 0 -->\r\n      <defs>\r\n       <path d=\"M 31.78125 66.40625 \r\nQ 24.171875 66.40625 20.328125 58.90625 \r\nQ 16.5 51.421875 16.5 36.375 \r\nQ 16.5 21.390625 20.328125 13.890625 \r\nQ 24.171875 6.390625 31.78125 6.390625 \r\nQ 39.453125 6.390625 43.28125 13.890625 \r\nQ 47.125 21.390625 47.125 36.375 \r\nQ 47.125 51.421875 43.28125 58.90625 \r\nQ 39.453125 66.40625 31.78125 66.40625 \r\nz\r\nM 31.78125 74.21875 \r\nQ 44.046875 74.21875 50.515625 64.515625 \r\nQ 56.984375 54.828125 56.984375 36.375 \r\nQ 56.984375 17.96875 50.515625 8.265625 \r\nQ 44.046875 -1.421875 31.78125 -1.421875 \r\nQ 19.53125 -1.421875 13.0625 8.265625 \r\nQ 6.59375 17.96875 6.59375 36.375 \r\nQ 6.59375 54.828125 13.0625 64.515625 \r\nQ 19.53125 74.21875 31.78125 74.21875 \r\nz\r\n\" id=\"DejaVuSans-48\"/>\r\n      </defs>\r\n      <g transform=\"translate(27.626607 239.238437)scale(0.1 -0.1)\">\r\n       <use xlink:href=\"#DejaVuSans-48\"/>\r\n      </g>\r\n     </g>\r\n    </g>\r\n    <g id=\"xtick_2\">\r\n     <g id=\"line2d_2\">\r\n      <g>\r\n       <use style=\"stroke:#000000;stroke-width:0.8;\" x=\"69.636429\" xlink:href=\"#m7a22284026\" y=\"224.64\"/>\r\n      </g>\r\n     </g>\r\n     <g id=\"text_2\">\r\n      <!-- 5 -->\r\n      <defs>\r\n       <path d=\"M 10.796875 72.90625 \r\nL 49.515625 72.90625 \r\nL 49.515625 64.59375 \r\nL 19.828125 64.59375 \r\nL 19.828125 46.734375 \r\nQ 21.96875 47.46875 24.109375 47.828125 \r\nQ 26.265625 48.1875 28.421875 48.1875 \r\nQ 40.625 48.1875 47.75 41.5 \r\nQ 54.890625 34.8125 54.890625 23.390625 \r\nQ 54.890625 11.625 47.5625 5.09375 \r\nQ 40.234375 -1.421875 26.90625 -1.421875 \r\nQ 22.3125 -1.421875 17.546875 -0.640625 \r\nQ 12.796875 0.140625 7.71875 1.703125 \r\nL 7.71875 11.625 \r\nQ 12.109375 9.234375 16.796875 8.0625 \r\nQ 21.484375 6.890625 26.703125 6.890625 \r\nQ 35.15625 6.890625 40.078125 11.328125 \r\nQ 45.015625 15.765625 45.015625 23.390625 \r\nQ 45.015625 31 40.078125 35.4375 \r\nQ 35.15625 39.890625 26.703125 39.890625 \r\nQ 22.75 39.890625 18.8125 39.015625 \r\nQ 14.890625 38.140625 10.796875 36.28125 \r\nz\r\n\" id=\"DejaVuSans-53\"/>\r\n      </defs>\r\n      <g transform=\"translate(66.455179 239.238437)scale(0.1 -0.1)\">\r\n       <use xlink:href=\"#DejaVuSans-53\"/>\r\n      </g>\r\n     </g>\r\n    </g>\r\n    <g id=\"xtick_3\">\r\n     <g id=\"line2d_3\">\r\n      <g>\r\n       <use style=\"stroke:#000000;stroke-width:0.8;\" x=\"108.465\" xlink:href=\"#m7a22284026\" y=\"224.64\"/>\r\n      </g>\r\n     </g>\r\n     <g id=\"text_3\">\r\n      <!-- 10 -->\r\n      <defs>\r\n       <path d=\"M 12.40625 8.296875 \r\nL 28.515625 8.296875 \r\nL 28.515625 63.921875 \r\nL 10.984375 60.40625 \r\nL 10.984375 69.390625 \r\nL 28.421875 72.90625 \r\nL 38.28125 72.90625 \r\nL 38.28125 8.296875 \r\nL 54.390625 8.296875 \r\nL 54.390625 0 \r\nL 12.40625 0 \r\nz\r\n\" id=\"DejaVuSans-49\"/>\r\n      </defs>\r\n      <g transform=\"translate(102.1025 239.238437)scale(0.1 -0.1)\">\r\n       <use xlink:href=\"#DejaVuSans-49\"/>\r\n       <use x=\"63.623047\" xlink:href=\"#DejaVuSans-48\"/>\r\n      </g>\r\n     </g>\r\n    </g>\r\n    <g id=\"xtick_4\">\r\n     <g id=\"line2d_4\">\r\n      <g>\r\n       <use style=\"stroke:#000000;stroke-width:0.8;\" x=\"147.293571\" xlink:href=\"#m7a22284026\" y=\"224.64\"/>\r\n      </g>\r\n     </g>\r\n     <g id=\"text_4\">\r\n      <!-- 15 -->\r\n      <g transform=\"translate(140.931071 239.238437)scale(0.1 -0.1)\">\r\n       <use xlink:href=\"#DejaVuSans-49\"/>\r\n       <use x=\"63.623047\" xlink:href=\"#DejaVuSans-53\"/>\r\n      </g>\r\n     </g>\r\n    </g>\r\n    <g id=\"xtick_5\">\r\n     <g id=\"line2d_5\">\r\n      <g>\r\n       <use style=\"stroke:#000000;stroke-width:0.8;\" x=\"186.122143\" xlink:href=\"#m7a22284026\" y=\"224.64\"/>\r\n      </g>\r\n     </g>\r\n     <g id=\"text_5\">\r\n      <!-- 20 -->\r\n      <defs>\r\n       <path d=\"M 19.1875 8.296875 \r\nL 53.609375 8.296875 \r\nL 53.609375 0 \r\nL 7.328125 0 \r\nL 7.328125 8.296875 \r\nQ 12.9375 14.109375 22.625 23.890625 \r\nQ 32.328125 33.6875 34.8125 36.53125 \r\nQ 39.546875 41.84375 41.421875 45.53125 \r\nQ 43.3125 49.21875 43.3125 52.78125 \r\nQ 43.3125 58.59375 39.234375 62.25 \r\nQ 35.15625 65.921875 28.609375 65.921875 \r\nQ 23.96875 65.921875 18.8125 64.3125 \r\nQ 13.671875 62.703125 7.8125 59.421875 \r\nL 7.8125 69.390625 \r\nQ 13.765625 71.78125 18.9375 73 \r\nQ 24.125 74.21875 28.421875 74.21875 \r\nQ 39.75 74.21875 46.484375 68.546875 \r\nQ 53.21875 62.890625 53.21875 53.421875 \r\nQ 53.21875 48.921875 51.53125 44.890625 \r\nQ 49.859375 40.875 45.40625 35.40625 \r\nQ 44.1875 33.984375 37.640625 27.21875 \r\nQ 31.109375 20.453125 19.1875 8.296875 \r\nz\r\n\" id=\"DejaVuSans-50\"/>\r\n      </defs>\r\n      <g transform=\"translate(179.759643 239.238437)scale(0.1 -0.1)\">\r\n       <use xlink:href=\"#DejaVuSans-50\"/>\r\n       <use x=\"63.623047\" xlink:href=\"#DejaVuSans-48\"/>\r\n      </g>\r\n     </g>\r\n    </g>\r\n    <g id=\"xtick_6\">\r\n     <g id=\"line2d_6\">\r\n      <g>\r\n       <use style=\"stroke:#000000;stroke-width:0.8;\" x=\"224.950714\" xlink:href=\"#m7a22284026\" y=\"224.64\"/>\r\n      </g>\r\n     </g>\r\n     <g id=\"text_6\">\r\n      <!-- 25 -->\r\n      <g transform=\"translate(218.588214 239.238437)scale(0.1 -0.1)\">\r\n       <use xlink:href=\"#DejaVuSans-50\"/>\r\n       <use x=\"63.623047\" xlink:href=\"#DejaVuSans-53\"/>\r\n      </g>\r\n     </g>\r\n    </g>\r\n   </g>\r\n   <g id=\"matplotlib.axis_2\">\r\n    <g id=\"ytick_1\">\r\n     <g id=\"line2d_7\">\r\n      <defs>\r\n       <path d=\"M 0 0 \r\nL -3.5 0 \r\n\" id=\"m5c3569f944\" style=\"stroke:#000000;stroke-width:0.8;\"/>\r\n      </defs>\r\n      <g>\r\n       <use style=\"stroke:#000000;stroke-width:0.8;\" x=\"26.925\" xlink:href=\"#m5c3569f944\" y=\"11.082857\"/>\r\n      </g>\r\n     </g>\r\n     <g id=\"text_7\">\r\n      <!-- 0 -->\r\n      <g transform=\"translate(13.5625 14.882076)scale(0.1 -0.1)\">\r\n       <use xlink:href=\"#DejaVuSans-48\"/>\r\n      </g>\r\n     </g>\r\n    </g>\r\n    <g id=\"ytick_2\">\r\n     <g id=\"line2d_8\">\r\n      <g>\r\n       <use style=\"stroke:#000000;stroke-width:0.8;\" x=\"26.925\" xlink:href=\"#m5c3569f944\" y=\"49.911429\"/>\r\n      </g>\r\n     </g>\r\n     <g id=\"text_8\">\r\n      <!-- 5 -->\r\n      <g transform=\"translate(13.5625 53.710647)scale(0.1 -0.1)\">\r\n       <use xlink:href=\"#DejaVuSans-53\"/>\r\n      </g>\r\n     </g>\r\n    </g>\r\n    <g id=\"ytick_3\">\r\n     <g id=\"line2d_9\">\r\n      <g>\r\n       <use style=\"stroke:#000000;stroke-width:0.8;\" x=\"26.925\" xlink:href=\"#m5c3569f944\" y=\"88.74\"/>\r\n      </g>\r\n     </g>\r\n     <g id=\"text_9\">\r\n      <!-- 10 -->\r\n      <g transform=\"translate(7.2 92.539219)scale(0.1 -0.1)\">\r\n       <use xlink:href=\"#DejaVuSans-49\"/>\r\n       <use x=\"63.623047\" xlink:href=\"#DejaVuSans-48\"/>\r\n      </g>\r\n     </g>\r\n    </g>\r\n    <g id=\"ytick_4\">\r\n     <g id=\"line2d_10\">\r\n      <g>\r\n       <use style=\"stroke:#000000;stroke-width:0.8;\" x=\"26.925\" xlink:href=\"#m5c3569f944\" y=\"127.568571\"/>\r\n      </g>\r\n     </g>\r\n     <g id=\"text_10\">\r\n      <!-- 15 -->\r\n      <g transform=\"translate(7.2 131.36779)scale(0.1 -0.1)\">\r\n       <use xlink:href=\"#DejaVuSans-49\"/>\r\n       <use x=\"63.623047\" xlink:href=\"#DejaVuSans-53\"/>\r\n      </g>\r\n     </g>\r\n    </g>\r\n    <g id=\"ytick_5\">\r\n     <g id=\"line2d_11\">\r\n      <g>\r\n       <use style=\"stroke:#000000;stroke-width:0.8;\" x=\"26.925\" xlink:href=\"#m5c3569f944\" y=\"166.397143\"/>\r\n      </g>\r\n     </g>\r\n     <g id=\"text_11\">\r\n      <!-- 20 -->\r\n      <g transform=\"translate(7.2 170.196362)scale(0.1 -0.1)\">\r\n       <use xlink:href=\"#DejaVuSans-50\"/>\r\n       <use x=\"63.623047\" xlink:href=\"#DejaVuSans-48\"/>\r\n      </g>\r\n     </g>\r\n    </g>\r\n    <g id=\"ytick_6\">\r\n     <g id=\"line2d_12\">\r\n      <g>\r\n       <use style=\"stroke:#000000;stroke-width:0.8;\" x=\"26.925\" xlink:href=\"#m5c3569f944\" y=\"205.225714\"/>\r\n      </g>\r\n     </g>\r\n     <g id=\"text_12\">\r\n      <!-- 25 -->\r\n      <g transform=\"translate(7.2 209.024933)scale(0.1 -0.1)\">\r\n       <use xlink:href=\"#DejaVuSans-50\"/>\r\n       <use x=\"63.623047\" xlink:href=\"#DejaVuSans-53\"/>\r\n      </g>\r\n     </g>\r\n    </g>\r\n   </g>\r\n   <g id=\"patch_3\">\r\n    <path d=\"M 26.925 224.64 \r\nL 26.925 7.2 \r\n\" style=\"fill:none;stroke:#000000;stroke-linecap:square;stroke-linejoin:miter;stroke-width:0.8;\"/>\r\n   </g>\r\n   <g id=\"patch_4\">\r\n    <path d=\"M 244.365 224.64 \r\nL 244.365 7.2 \r\n\" style=\"fill:none;stroke:#000000;stroke-linecap:square;stroke-linejoin:miter;stroke-width:0.8;\"/>\r\n   </g>\r\n   <g id=\"patch_5\">\r\n    <path d=\"M 26.925 224.64 \r\nL 244.365 224.64 \r\n\" style=\"fill:none;stroke:#000000;stroke-linecap:square;stroke-linejoin:miter;stroke-width:0.8;\"/>\r\n   </g>\r\n   <g id=\"patch_6\">\r\n    <path d=\"M 26.925 7.2 \r\nL 244.365 7.2 \r\n\" style=\"fill:none;stroke:#000000;stroke-linecap:square;stroke-linejoin:miter;stroke-width:0.8;\"/>\r\n   </g>\r\n  </g>\r\n </g>\r\n <defs>\r\n  <clipPath id=\"p22738d8042\">\r\n   <rect height=\"217.44\" width=\"217.44\" x=\"26.925\" y=\"7.2\"/>\r\n  </clipPath>\r\n </defs>\r\n</svg>\r\n",
      "image/png": "[encoded data removed]"
     },
     "metadata": {
      "needs_background": "light"
     }
    }
   ],
   "source": [
    "sample_idx = 123\n",
    "sample_data, sample_label = test_dataset[sample_idx]\n",
    "plt.imshow(sample_data[0].asnumpy())  # 0 for first and only channel (since greyscale)."
   ]
  },
  {
   "cell_type": "markdown",
   "metadata": {
    "deletable": false,
    "editable": false,
    "nbgrader": {
     "cell_type": "markdown",
     "checksum": "ed2ca106a69f67ee2e77786e0a54f4c8",
     "grade": false,
     "grade_id": "cell-cdac79c9b0e7354e",
     "locked": true,
     "schema_version": 3,
     "solution": false,
     "task": false
    }
   },
   "source": [
    "One important step before passing images to the network is normalization: i.e. shifting and scaling the pixel values so that they are zero-centered on average and have unit variance.\n",
    "\n",
    "One method of normalization is pixelwise, where each **pixel** should have a unit normal distribution of values. Another is channelwise, where each **channel** should have a unit normal distribution of values. \n",
    "\n",
    "One of the first steps in the pixelwise approach is to calculate an 'average image' from the dataset. Using a sample of 1024 images, you should now implement a function to calculate the average intensity for every pixel. You'd typically want to calculate this from all samples of the dataset, but 1024 samples will be sufficient for now."
   ]
  },
  {
   "cell_type": "code",
   "execution_count": 40,
   "metadata": {},
   "outputs": [
    {
     "output_type": "stream",
     "name": "stdout",
     "text": "(1024, 1, 28, 28)\n"
    }
   ],
   "source": [
    "test_dataloader = mx.gluon.data.DataLoader(test_dataset, shuffle=False, batch_size=1024)\n",
    "for data, label in test_dataloader:\n",
    "    break\n",
    "print(data.shape)"
   ]
  },
  {
   "cell_type": "code",
   "execution_count": 41,
   "metadata": {
    "deletable": false,
    "nbgrader": {
     "cell_type": "code",
     "checksum": "028925a530e2ed4d602226963e5e3409",
     "grade": false,
     "grade_id": "cell-c347c7c9342cbeb1",
     "locked": false,
     "schema_version": 3,
     "solution": true,
     "task": false
    }
   },
   "outputs": [],
   "source": [
    "def get_average_image_from_batch(batch):\n",
    "    \"\"\"\n",
    "    Given a batch of images, this function should calculate the 'average image'.\n",
    "    \n",
    "    :param batch: batch of images in NCHW layout.\n",
    "    :type batch: mx.nd.NDArray\n",
    "    \n",
    "    :return: average image in CHW layout.\n",
    "    :rtype: mx.nd.NDArray\n",
    "    \"\"\"\n",
    "    # YOUR CODE HERE\n",
    "    return( mx.nd.mean(batch, axis=0)   )\n"
   ]
  },
  {
   "cell_type": "code",
   "execution_count": 42,
   "metadata": {
    "deletable": false,
    "editable": false,
    "nbgrader": {
     "cell_type": "code",
     "checksum": "7afa5949415bf47373e5760b8df699c3",
     "grade": true,
     "grade_id": "cell-1b3d8700f95a0e26",
     "locked": true,
     "points": 1,
     "schema_version": 3,
     "solution": false,
     "task": false
    }
   },
   "outputs": [
    {
     "output_type": "execute_result",
     "data": {
      "text/plain": "<matplotlib.image.AxesImage at 0x1e61f535588>"
     },
     "metadata": {},
     "execution_count": 42
    },
    {
     "output_type": "display_data",
     "data": {
      "text/plain": "<Figure size 432x288 with 1 Axes>",
      "image/svg+xml": "<?xml version=\"1.0\" encoding=\"utf-8\" standalone=\"no\"?>\r\n<!DOCTYPE svg PUBLIC \"-//W3C//DTD SVG 1.1//EN\"\r\n  \"http://www.w3.org/Graphics/SVG/1.1/DTD/svg11.dtd\">\r\n<!-- Created with matplotlib (https://matplotlib.org/) -->\r\n<svg height=\"248.518125pt\" version=\"1.1\" viewBox=\"0 0 251.565 248.518125\" width=\"251.565pt\" xmlns=\"http://www.w3.org/2000/svg\" xmlns:xlink=\"http://www.w3.org/1999/xlink\">\r\n <defs>\r\n  <style type=\"text/css\">\r\n*{stroke-linecap:butt;stroke-linejoin:round;}\r\n  </style>\r\n </defs>\r\n <g id=\"figure_1\">\r\n  <g id=\"patch_1\">\r\n   <path d=\"M 0 248.518125 \r\nL 251.565 248.518125 \r\nL 251.565 0 \r\nL 0 0 \r\nz\r\n\" style=\"fill:none;\"/>\r\n  </g>\r\n  <g id=\"axes_1\">\r\n   <g id=\"patch_2\">\r\n    <path d=\"M 26.925 224.64 \r\nL 244.365 224.64 \r\nL 244.365 7.2 \r\nL 26.925 7.2 \r\nz\r\n\" style=\"fill:#ffffff;\"/>\r\n   </g>\r\n   <g clip-path=\"url(#pbba6b950c8)\">\r\n    <image height=\"218\" id=\"imageeca1a28ba2\" transform=\"scale(1 -1)translate(0 -218)\" width=\"218\" x=\"26.925\" xlink:href=\"data:image/png;base64,\r\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\" y=\"-6.64\"/>\r\n   </g>\r\n   <g id=\"matplotlib.axis_1\">\r\n    <g id=\"xtick_1\">\r\n     <g id=\"line2d_1\">\r\n      <defs>\r\n       <path d=\"M 0 0 \r\nL 0 3.5 \r\n\" id=\"m50676530b7\" style=\"stroke:#000000;stroke-width:0.8;\"/>\r\n      </defs>\r\n      <g>\r\n       <use style=\"stroke:#000000;stroke-width:0.8;\" x=\"30.807857\" xlink:href=\"#m50676530b7\" y=\"224.64\"/>\r\n      </g>\r\n     </g>\r\n     <g id=\"text_1\">\r\n      <!-- 0 -->\r\n      <defs>\r\n       <path d=\"M 31.78125 66.40625 \r\nQ 24.171875 66.40625 20.328125 58.90625 \r\nQ 16.5 51.421875 16.5 36.375 \r\nQ 16.5 21.390625 20.328125 13.890625 \r\nQ 24.171875 6.390625 31.78125 6.390625 \r\nQ 39.453125 6.390625 43.28125 13.890625 \r\nQ 47.125 21.390625 47.125 36.375 \r\nQ 47.125 51.421875 43.28125 58.90625 \r\nQ 39.453125 66.40625 31.78125 66.40625 \r\nz\r\nM 31.78125 74.21875 \r\nQ 44.046875 74.21875 50.515625 64.515625 \r\nQ 56.984375 54.828125 56.984375 36.375 \r\nQ 56.984375 17.96875 50.515625 8.265625 \r\nQ 44.046875 -1.421875 31.78125 -1.421875 \r\nQ 19.53125 -1.421875 13.0625 8.265625 \r\nQ 6.59375 17.96875 6.59375 36.375 \r\nQ 6.59375 54.828125 13.0625 64.515625 \r\nQ 19.53125 74.21875 31.78125 74.21875 \r\nz\r\n\" id=\"DejaVuSans-48\"/>\r\n      </defs>\r\n      <g transform=\"translate(27.626607 239.238437)scale(0.1 -0.1)\">\r\n       <use xlink:href=\"#DejaVuSans-48\"/>\r\n      </g>\r\n     </g>\r\n    </g>\r\n    <g id=\"xtick_2\">\r\n     <g id=\"line2d_2\">\r\n      <g>\r\n       <use style=\"stroke:#000000;stroke-width:0.8;\" x=\"69.636429\" xlink:href=\"#m50676530b7\" y=\"224.64\"/>\r\n      </g>\r\n     </g>\r\n     <g id=\"text_2\">\r\n      <!-- 5 -->\r\n      <defs>\r\n       <path d=\"M 10.796875 72.90625 \r\nL 49.515625 72.90625 \r\nL 49.515625 64.59375 \r\nL 19.828125 64.59375 \r\nL 19.828125 46.734375 \r\nQ 21.96875 47.46875 24.109375 47.828125 \r\nQ 26.265625 48.1875 28.421875 48.1875 \r\nQ 40.625 48.1875 47.75 41.5 \r\nQ 54.890625 34.8125 54.890625 23.390625 \r\nQ 54.890625 11.625 47.5625 5.09375 \r\nQ 40.234375 -1.421875 26.90625 -1.421875 \r\nQ 22.3125 -1.421875 17.546875 -0.640625 \r\nQ 12.796875 0.140625 7.71875 1.703125 \r\nL 7.71875 11.625 \r\nQ 12.109375 9.234375 16.796875 8.0625 \r\nQ 21.484375 6.890625 26.703125 6.890625 \r\nQ 35.15625 6.890625 40.078125 11.328125 \r\nQ 45.015625 15.765625 45.015625 23.390625 \r\nQ 45.015625 31 40.078125 35.4375 \r\nQ 35.15625 39.890625 26.703125 39.890625 \r\nQ 22.75 39.890625 18.8125 39.015625 \r\nQ 14.890625 38.140625 10.796875 36.28125 \r\nz\r\n\" id=\"DejaVuSans-53\"/>\r\n      </defs>\r\n      <g transform=\"translate(66.455179 239.238437)scale(0.1 -0.1)\">\r\n       <use xlink:href=\"#DejaVuSans-53\"/>\r\n      </g>\r\n     </g>\r\n    </g>\r\n    <g id=\"xtick_3\">\r\n     <g id=\"line2d_3\">\r\n      <g>\r\n       <use style=\"stroke:#000000;stroke-width:0.8;\" x=\"108.465\" xlink:href=\"#m50676530b7\" y=\"224.64\"/>\r\n      </g>\r\n     </g>\r\n     <g id=\"text_3\">\r\n      <!-- 10 -->\r\n      <defs>\r\n       <path d=\"M 12.40625 8.296875 \r\nL 28.515625 8.296875 \r\nL 28.515625 63.921875 \r\nL 10.984375 60.40625 \r\nL 10.984375 69.390625 \r\nL 28.421875 72.90625 \r\nL 38.28125 72.90625 \r\nL 38.28125 8.296875 \r\nL 54.390625 8.296875 \r\nL 54.390625 0 \r\nL 12.40625 0 \r\nz\r\n\" id=\"DejaVuSans-49\"/>\r\n      </defs>\r\n      <g transform=\"translate(102.1025 239.238437)scale(0.1 -0.1)\">\r\n       <use xlink:href=\"#DejaVuSans-49\"/>\r\n       <use x=\"63.623047\" xlink:href=\"#DejaVuSans-48\"/>\r\n      </g>\r\n     </g>\r\n    </g>\r\n    <g id=\"xtick_4\">\r\n     <g id=\"line2d_4\">\r\n      <g>\r\n       <use style=\"stroke:#000000;stroke-width:0.8;\" x=\"147.293571\" xlink:href=\"#m50676530b7\" y=\"224.64\"/>\r\n      </g>\r\n     </g>\r\n     <g id=\"text_4\">\r\n      <!-- 15 -->\r\n      <g transform=\"translate(140.931071 239.238437)scale(0.1 -0.1)\">\r\n       <use xlink:href=\"#DejaVuSans-49\"/>\r\n       <use x=\"63.623047\" xlink:href=\"#DejaVuSans-53\"/>\r\n      </g>\r\n     </g>\r\n    </g>\r\n    <g id=\"xtick_5\">\r\n     <g id=\"line2d_5\">\r\n      <g>\r\n       <use style=\"stroke:#000000;stroke-width:0.8;\" x=\"186.122143\" xlink:href=\"#m50676530b7\" y=\"224.64\"/>\r\n      </g>\r\n     </g>\r\n     <g id=\"text_5\">\r\n      <!-- 20 -->\r\n      <defs>\r\n       <path d=\"M 19.1875 8.296875 \r\nL 53.609375 8.296875 \r\nL 53.609375 0 \r\nL 7.328125 0 \r\nL 7.328125 8.296875 \r\nQ 12.9375 14.109375 22.625 23.890625 \r\nQ 32.328125 33.6875 34.8125 36.53125 \r\nQ 39.546875 41.84375 41.421875 45.53125 \r\nQ 43.3125 49.21875 43.3125 52.78125 \r\nQ 43.3125 58.59375 39.234375 62.25 \r\nQ 35.15625 65.921875 28.609375 65.921875 \r\nQ 23.96875 65.921875 18.8125 64.3125 \r\nQ 13.671875 62.703125 7.8125 59.421875 \r\nL 7.8125 69.390625 \r\nQ 13.765625 71.78125 18.9375 73 \r\nQ 24.125 74.21875 28.421875 74.21875 \r\nQ 39.75 74.21875 46.484375 68.546875 \r\nQ 53.21875 62.890625 53.21875 53.421875 \r\nQ 53.21875 48.921875 51.53125 44.890625 \r\nQ 49.859375 40.875 45.40625 35.40625 \r\nQ 44.1875 33.984375 37.640625 27.21875 \r\nQ 31.109375 20.453125 19.1875 8.296875 \r\nz\r\n\" id=\"DejaVuSans-50\"/>\r\n      </defs>\r\n      <g transform=\"translate(179.759643 239.238437)scale(0.1 -0.1)\">\r\n       <use xlink:href=\"#DejaVuSans-50\"/>\r\n       <use x=\"63.623047\" xlink:href=\"#DejaVuSans-48\"/>\r\n      </g>\r\n     </g>\r\n    </g>\r\n    <g id=\"xtick_6\">\r\n     <g id=\"line2d_6\">\r\n      <g>\r\n       <use style=\"stroke:#000000;stroke-width:0.8;\" x=\"224.950714\" xlink:href=\"#m50676530b7\" y=\"224.64\"/>\r\n      </g>\r\n     </g>\r\n     <g id=\"text_6\">\r\n      <!-- 25 -->\r\n      <g transform=\"translate(218.588214 239.238437)scale(0.1 -0.1)\">\r\n       <use xlink:href=\"#DejaVuSans-50\"/>\r\n       <use x=\"63.623047\" xlink:href=\"#DejaVuSans-53\"/>\r\n      </g>\r\n     </g>\r\n    </g>\r\n   </g>\r\n   <g id=\"matplotlib.axis_2\">\r\n    <g id=\"ytick_1\">\r\n     <g id=\"line2d_7\">\r\n      <defs>\r\n       <path d=\"M 0 0 \r\nL -3.5 0 \r\n\" id=\"m28d9e32128\" style=\"stroke:#000000;stroke-width:0.8;\"/>\r\n      </defs>\r\n      <g>\r\n       <use style=\"stroke:#000000;stroke-width:0.8;\" x=\"26.925\" xlink:href=\"#m28d9e32128\" y=\"11.082857\"/>\r\n      </g>\r\n     </g>\r\n     <g id=\"text_7\">\r\n      <!-- 0 -->\r\n      <g transform=\"translate(13.5625 14.882076)scale(0.1 -0.1)\">\r\n       <use xlink:href=\"#DejaVuSans-48\"/>\r\n      </g>\r\n     </g>\r\n    </g>\r\n    <g id=\"ytick_2\">\r\n     <g id=\"line2d_8\">\r\n      <g>\r\n       <use style=\"stroke:#000000;stroke-width:0.8;\" x=\"26.925\" xlink:href=\"#m28d9e32128\" y=\"49.911429\"/>\r\n      </g>\r\n     </g>\r\n     <g id=\"text_8\">\r\n      <!-- 5 -->\r\n      <g transform=\"translate(13.5625 53.710647)scale(0.1 -0.1)\">\r\n       <use xlink:href=\"#DejaVuSans-53\"/>\r\n      </g>\r\n     </g>\r\n    </g>\r\n    <g id=\"ytick_3\">\r\n     <g id=\"line2d_9\">\r\n      <g>\r\n       <use style=\"stroke:#000000;stroke-width:0.8;\" x=\"26.925\" xlink:href=\"#m28d9e32128\" y=\"88.74\"/>\r\n      </g>\r\n     </g>\r\n     <g id=\"text_9\">\r\n      <!-- 10 -->\r\n      <g transform=\"translate(7.2 92.539219)scale(0.1 -0.1)\">\r\n       <use xlink:href=\"#DejaVuSans-49\"/>\r\n       <use x=\"63.623047\" xlink:href=\"#DejaVuSans-48\"/>\r\n      </g>\r\n     </g>\r\n    </g>\r\n    <g id=\"ytick_4\">\r\n     <g id=\"line2d_10\">\r\n      <g>\r\n       <use style=\"stroke:#000000;stroke-width:0.8;\" x=\"26.925\" xlink:href=\"#m28d9e32128\" y=\"127.568571\"/>\r\n      </g>\r\n     </g>\r\n     <g id=\"text_10\">\r\n      <!-- 15 -->\r\n      <g transform=\"translate(7.2 131.36779)scale(0.1 -0.1)\">\r\n       <use xlink:href=\"#DejaVuSans-49\"/>\r\n       <use x=\"63.623047\" xlink:href=\"#DejaVuSans-53\"/>\r\n      </g>\r\n     </g>\r\n    </g>\r\n    <g id=\"ytick_5\">\r\n     <g id=\"line2d_11\">\r\n      <g>\r\n       <use style=\"stroke:#000000;stroke-width:0.8;\" x=\"26.925\" xlink:href=\"#m28d9e32128\" y=\"166.397143\"/>\r\n      </g>\r\n     </g>\r\n     <g id=\"text_11\">\r\n      <!-- 20 -->\r\n      <g transform=\"translate(7.2 170.196362)scale(0.1 -0.1)\">\r\n       <use xlink:href=\"#DejaVuSans-50\"/>\r\n       <use x=\"63.623047\" xlink:href=\"#DejaVuSans-48\"/>\r\n      </g>\r\n     </g>\r\n    </g>\r\n    <g id=\"ytick_6\">\r\n     <g id=\"line2d_12\">\r\n      <g>\r\n       <use style=\"stroke:#000000;stroke-width:0.8;\" x=\"26.925\" xlink:href=\"#m28d9e32128\" y=\"205.225714\"/>\r\n      </g>\r\n     </g>\r\n     <g id=\"text_12\">\r\n      <!-- 25 -->\r\n      <g transform=\"translate(7.2 209.024933)scale(0.1 -0.1)\">\r\n       <use xlink:href=\"#DejaVuSans-50\"/>\r\n       <use x=\"63.623047\" xlink:href=\"#DejaVuSans-53\"/>\r\n      </g>\r\n     </g>\r\n    </g>\r\n   </g>\r\n   <g id=\"patch_3\">\r\n    <path d=\"M 26.925 224.64 \r\nL 26.925 7.2 \r\n\" style=\"fill:none;stroke:#000000;stroke-linecap:square;stroke-linejoin:miter;stroke-width:0.8;\"/>\r\n   </g>\r\n   <g id=\"patch_4\">\r\n    <path d=\"M 244.365 224.64 \r\nL 244.365 7.2 \r\n\" style=\"fill:none;stroke:#000000;stroke-linecap:square;stroke-linejoin:miter;stroke-width:0.8;\"/>\r\n   </g>\r\n   <g id=\"patch_5\">\r\n    <path d=\"M 26.925 224.64 \r\nL 244.365 224.64 \r\n\" style=\"fill:none;stroke:#000000;stroke-linecap:square;stroke-linejoin:miter;stroke-width:0.8;\"/>\r\n   </g>\r\n   <g id=\"patch_6\">\r\n    <path d=\"M 26.925 7.2 \r\nL 244.365 7.2 \r\n\" style=\"fill:none;stroke:#000000;stroke-linecap:square;stroke-linejoin:miter;stroke-width:0.8;\"/>\r\n   </g>\r\n  </g>\r\n </g>\r\n <defs>\r\n  <clipPath id=\"pbba6b950c8\">\r\n   <rect height=\"217.44\" width=\"217.44\" x=\"26.925\" y=\"7.2\"/>\r\n  </clipPath>\r\n </defs>\r\n</svg>\r\n",
      "image/png": "[encoded data removed]"
     },
     "metadata": {
      "needs_background": "light"
     }
    }
   ],
   "source": [
    "average_image = get_average_image_from_batch(data)\n",
    "assert average_image.shape == (1, 28, 28)\n",
    "plt.imshow(average_image[0].asnumpy())  # 0 for first and only channel (since greyscale)."
   ]
  },
  {
   "cell_type": "markdown",
   "metadata": {
    "deletable": false,
    "editable": false,
    "nbgrader": {
     "cell_type": "markdown",
     "checksum": "1c60c3d88653d4d13ddfc97a891d2041",
     "grade": false,
     "grade_id": "cell-8289081a2395a032",
     "locked": true,
     "schema_version": 3,
     "solution": false,
     "task": false
    }
   },
   "source": [
    "Using the average image that was calculated above, you should now implement a function to perform the pixelwise normalization."
   ]
  },
  {
   "cell_type": "code",
   "execution_count": 43,
   "metadata": {
    "deletable": false,
    "nbgrader": {
     "cell_type": "code",
     "checksum": "237357a2b5ce96f61e37e68a000aae79",
     "grade": false,
     "grade_id": "cell-970eddb5f76be1f0",
     "locked": false,
     "schema_version": 3,
     "solution": true,
     "task": false
    }
   },
   "outputs": [],
   "source": [
    "def subtract_average_image(sample, average_image):\n",
    "    \"\"\"\n",
    "    Given a sample images, this function should return a pixelwise normalized image,\n",
    "    using a pre-calculated average image.\n",
    "    \n",
    "    :param sample: sample image in CHW layout.\n",
    "    :type sample: mx.nd.NDArray\n",
    "    :param average_image: average image of the dataset in CHW layout.\n",
    "    :type average_image: mx.nd.NDArray\n",
    "    \n",
    "    :return: pixelwise normalized image in CHW layout.\n",
    "    :rtype: mx.nd.NDArray\n",
    "    \"\"\"\n",
    "    # YOUR CODE HERE\n",
    "    return sample-average_image"
   ]
  },
  {
   "cell_type": "code",
   "execution_count": 44,
   "metadata": {
    "deletable": false,
    "editable": false,
    "nbgrader": {
     "cell_type": "code",
     "checksum": "93a9e45c83be15ffd405137234e41c24",
     "grade": true,
     "grade_id": "cell-4f8cfd20e9027638",
     "locked": true,
     "points": 1,
     "schema_version": 3,
     "solution": false,
     "task": false
    }
   },
   "outputs": [
    {
     "output_type": "execute_result",
     "data": {
      "text/plain": "<matplotlib.image.AxesImage at 0x1e61f5be308>"
     },
     "metadata": {},
     "execution_count": 44
    },
    {
     "output_type": "display_data",
     "data": {
      "text/plain": "<Figure size 432x288 with 1 Axes>",
      "image/svg+xml": "<?xml version=\"1.0\" encoding=\"utf-8\" standalone=\"no\"?>\r\n<!DOCTYPE svg PUBLIC \"-//W3C//DTD SVG 1.1//EN\"\r\n  \"http://www.w3.org/Graphics/SVG/1.1/DTD/svg11.dtd\">\r\n<!-- Created with matplotlib (https://matplotlib.org/) -->\r\n<svg height=\"248.518125pt\" version=\"1.1\" viewBox=\"0 0 251.565 248.518125\" width=\"251.565pt\" xmlns=\"http://www.w3.org/2000/svg\" xmlns:xlink=\"http://www.w3.org/1999/xlink\">\r\n <defs>\r\n  <style type=\"text/css\">\r\n*{stroke-linecap:butt;stroke-linejoin:round;}\r\n  </style>\r\n </defs>\r\n <g id=\"figure_1\">\r\n  <g id=\"patch_1\">\r\n   <path d=\"M 0 248.518125 \r\nL 251.565 248.518125 \r\nL 251.565 0 \r\nL 0 0 \r\nz\r\n\" style=\"fill:none;\"/>\r\n  </g>\r\n  <g id=\"axes_1\">\r\n   <g id=\"patch_2\">\r\n    <path d=\"M 26.925 224.64 \r\nL 244.365 224.64 \r\nL 244.365 7.2 \r\nL 26.925 7.2 \r\nz\r\n\" style=\"fill:#ffffff;\"/>\r\n   </g>\r\n   <g clip-path=\"url(#pea96fdfc7d)\">\r\n    <image height=\"218\" id=\"imagec96b04b0b9\" transform=\"scale(1 -1)translate(0 -218)\" width=\"218\" x=\"26.925\" xlink:href=\"data:image/png;base64,\r\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\" y=\"-6.64\"/>\r\n   </g>\r\n   <g id=\"matplotlib.axis_1\">\r\n    <g id=\"xtick_1\">\r\n     <g id=\"line2d_1\">\r\n      <defs>\r\n       <path d=\"M 0 0 \r\nL 0 3.5 \r\n\" id=\"mb516f23d31\" style=\"stroke:#000000;stroke-width:0.8;\"/>\r\n      </defs>\r\n      <g>\r\n       <use style=\"stroke:#000000;stroke-width:0.8;\" x=\"30.807857\" xlink:href=\"#mb516f23d31\" y=\"224.64\"/>\r\n      </g>\r\n     </g>\r\n     <g id=\"text_1\">\r\n      <!-- 0 -->\r\n      <defs>\r\n       <path d=\"M 31.78125 66.40625 \r\nQ 24.171875 66.40625 20.328125 58.90625 \r\nQ 16.5 51.421875 16.5 36.375 \r\nQ 16.5 21.390625 20.328125 13.890625 \r\nQ 24.171875 6.390625 31.78125 6.390625 \r\nQ 39.453125 6.390625 43.28125 13.890625 \r\nQ 47.125 21.390625 47.125 36.375 \r\nQ 47.125 51.421875 43.28125 58.90625 \r\nQ 39.453125 66.40625 31.78125 66.40625 \r\nz\r\nM 31.78125 74.21875 \r\nQ 44.046875 74.21875 50.515625 64.515625 \r\nQ 56.984375 54.828125 56.984375 36.375 \r\nQ 56.984375 17.96875 50.515625 8.265625 \r\nQ 44.046875 -1.421875 31.78125 -1.421875 \r\nQ 19.53125 -1.421875 13.0625 8.265625 \r\nQ 6.59375 17.96875 6.59375 36.375 \r\nQ 6.59375 54.828125 13.0625 64.515625 \r\nQ 19.53125 74.21875 31.78125 74.21875 \r\nz\r\n\" id=\"DejaVuSans-48\"/>\r\n      </defs>\r\n      <g transform=\"translate(27.626607 239.238437)scale(0.1 -0.1)\">\r\n       <use xlink:href=\"#DejaVuSans-48\"/>\r\n      </g>\r\n     </g>\r\n    </g>\r\n    <g id=\"xtick_2\">\r\n     <g id=\"line2d_2\">\r\n      <g>\r\n       <use style=\"stroke:#000000;stroke-width:0.8;\" x=\"69.636429\" xlink:href=\"#mb516f23d31\" y=\"224.64\"/>\r\n      </g>\r\n     </g>\r\n     <g id=\"text_2\">\r\n      <!-- 5 -->\r\n      <defs>\r\n       <path d=\"M 10.796875 72.90625 \r\nL 49.515625 72.90625 \r\nL 49.515625 64.59375 \r\nL 19.828125 64.59375 \r\nL 19.828125 46.734375 \r\nQ 21.96875 47.46875 24.109375 47.828125 \r\nQ 26.265625 48.1875 28.421875 48.1875 \r\nQ 40.625 48.1875 47.75 41.5 \r\nQ 54.890625 34.8125 54.890625 23.390625 \r\nQ 54.890625 11.625 47.5625 5.09375 \r\nQ 40.234375 -1.421875 26.90625 -1.421875 \r\nQ 22.3125 -1.421875 17.546875 -0.640625 \r\nQ 12.796875 0.140625 7.71875 1.703125 \r\nL 7.71875 11.625 \r\nQ 12.109375 9.234375 16.796875 8.0625 \r\nQ 21.484375 6.890625 26.703125 6.890625 \r\nQ 35.15625 6.890625 40.078125 11.328125 \r\nQ 45.015625 15.765625 45.015625 23.390625 \r\nQ 45.015625 31 40.078125 35.4375 \r\nQ 35.15625 39.890625 26.703125 39.890625 \r\nQ 22.75 39.890625 18.8125 39.015625 \r\nQ 14.890625 38.140625 10.796875 36.28125 \r\nz\r\n\" id=\"DejaVuSans-53\"/>\r\n      </defs>\r\n      <g transform=\"translate(66.455179 239.238437)scale(0.1 -0.1)\">\r\n       <use xlink:href=\"#DejaVuSans-53\"/>\r\n      </g>\r\n     </g>\r\n    </g>\r\n    <g id=\"xtick_3\">\r\n     <g id=\"line2d_3\">\r\n      <g>\r\n       <use style=\"stroke:#000000;stroke-width:0.8;\" x=\"108.465\" xlink:href=\"#mb516f23d31\" y=\"224.64\"/>\r\n      </g>\r\n     </g>\r\n     <g id=\"text_3\">\r\n      <!-- 10 -->\r\n      <defs>\r\n       <path d=\"M 12.40625 8.296875 \r\nL 28.515625 8.296875 \r\nL 28.515625 63.921875 \r\nL 10.984375 60.40625 \r\nL 10.984375 69.390625 \r\nL 28.421875 72.90625 \r\nL 38.28125 72.90625 \r\nL 38.28125 8.296875 \r\nL 54.390625 8.296875 \r\nL 54.390625 0 \r\nL 12.40625 0 \r\nz\r\n\" id=\"DejaVuSans-49\"/>\r\n      </defs>\r\n      <g transform=\"translate(102.1025 239.238437)scale(0.1 -0.1)\">\r\n       <use xlink:href=\"#DejaVuSans-49\"/>\r\n       <use x=\"63.623047\" xlink:href=\"#DejaVuSans-48\"/>\r\n      </g>\r\n     </g>\r\n    </g>\r\n    <g id=\"xtick_4\">\r\n     <g id=\"line2d_4\">\r\n      <g>\r\n       <use style=\"stroke:#000000;stroke-width:0.8;\" x=\"147.293571\" xlink:href=\"#mb516f23d31\" y=\"224.64\"/>\r\n      </g>\r\n     </g>\r\n     <g id=\"text_4\">\r\n      <!-- 15 -->\r\n      <g transform=\"translate(140.931071 239.238437)scale(0.1 -0.1)\">\r\n       <use xlink:href=\"#DejaVuSans-49\"/>\r\n       <use x=\"63.623047\" xlink:href=\"#DejaVuSans-53\"/>\r\n      </g>\r\n     </g>\r\n    </g>\r\n    <g id=\"xtick_5\">\r\n     <g id=\"line2d_5\">\r\n      <g>\r\n       <use style=\"stroke:#000000;stroke-width:0.8;\" x=\"186.122143\" xlink:href=\"#mb516f23d31\" y=\"224.64\"/>\r\n      </g>\r\n     </g>\r\n     <g id=\"text_5\">\r\n      <!-- 20 -->\r\n      <defs>\r\n       <path d=\"M 19.1875 8.296875 \r\nL 53.609375 8.296875 \r\nL 53.609375 0 \r\nL 7.328125 0 \r\nL 7.328125 8.296875 \r\nQ 12.9375 14.109375 22.625 23.890625 \r\nQ 32.328125 33.6875 34.8125 36.53125 \r\nQ 39.546875 41.84375 41.421875 45.53125 \r\nQ 43.3125 49.21875 43.3125 52.78125 \r\nQ 43.3125 58.59375 39.234375 62.25 \r\nQ 35.15625 65.921875 28.609375 65.921875 \r\nQ 23.96875 65.921875 18.8125 64.3125 \r\nQ 13.671875 62.703125 7.8125 59.421875 \r\nL 7.8125 69.390625 \r\nQ 13.765625 71.78125 18.9375 73 \r\nQ 24.125 74.21875 28.421875 74.21875 \r\nQ 39.75 74.21875 46.484375 68.546875 \r\nQ 53.21875 62.890625 53.21875 53.421875 \r\nQ 53.21875 48.921875 51.53125 44.890625 \r\nQ 49.859375 40.875 45.40625 35.40625 \r\nQ 44.1875 33.984375 37.640625 27.21875 \r\nQ 31.109375 20.453125 19.1875 8.296875 \r\nz\r\n\" id=\"DejaVuSans-50\"/>\r\n      </defs>\r\n      <g transform=\"translate(179.759643 239.238437)scale(0.1 -0.1)\">\r\n       <use xlink:href=\"#DejaVuSans-50\"/>\r\n       <use x=\"63.623047\" xlink:href=\"#DejaVuSans-48\"/>\r\n      </g>\r\n     </g>\r\n    </g>\r\n    <g id=\"xtick_6\">\r\n     <g id=\"line2d_6\">\r\n      <g>\r\n       <use style=\"stroke:#000000;stroke-width:0.8;\" x=\"224.950714\" xlink:href=\"#mb516f23d31\" y=\"224.64\"/>\r\n      </g>\r\n     </g>\r\n     <g id=\"text_6\">\r\n      <!-- 25 -->\r\n      <g transform=\"translate(218.588214 239.238437)scale(0.1 -0.1)\">\r\n       <use xlink:href=\"#DejaVuSans-50\"/>\r\n       <use x=\"63.623047\" xlink:href=\"#DejaVuSans-53\"/>\r\n      </g>\r\n     </g>\r\n    </g>\r\n   </g>\r\n   <g id=\"matplotlib.axis_2\">\r\n    <g id=\"ytick_1\">\r\n     <g id=\"line2d_7\">\r\n      <defs>\r\n       <path d=\"M 0 0 \r\nL -3.5 0 \r\n\" id=\"m07d05c6708\" style=\"stroke:#000000;stroke-width:0.8;\"/>\r\n      </defs>\r\n      <g>\r\n       <use style=\"stroke:#000000;stroke-width:0.8;\" x=\"26.925\" xlink:href=\"#m07d05c6708\" y=\"11.082857\"/>\r\n      </g>\r\n     </g>\r\n     <g id=\"text_7\">\r\n      <!-- 0 -->\r\n      <g transform=\"translate(13.5625 14.882076)scale(0.1 -0.1)\">\r\n       <use xlink:href=\"#DejaVuSans-48\"/>\r\n      </g>\r\n     </g>\r\n    </g>\r\n    <g id=\"ytick_2\">\r\n     <g id=\"line2d_8\">\r\n      <g>\r\n       <use style=\"stroke:#000000;stroke-width:0.8;\" x=\"26.925\" xlink:href=\"#m07d05c6708\" y=\"49.911429\"/>\r\n      </g>\r\n     </g>\r\n     <g id=\"text_8\">\r\n      <!-- 5 -->\r\n      <g transform=\"translate(13.5625 53.710647)scale(0.1 -0.1)\">\r\n       <use xlink:href=\"#DejaVuSans-53\"/>\r\n      </g>\r\n     </g>\r\n    </g>\r\n    <g id=\"ytick_3\">\r\n     <g id=\"line2d_9\">\r\n      <g>\r\n       <use style=\"stroke:#000000;stroke-width:0.8;\" x=\"26.925\" xlink:href=\"#m07d05c6708\" y=\"88.74\"/>\r\n      </g>\r\n     </g>\r\n     <g id=\"text_9\">\r\n      <!-- 10 -->\r\n      <g transform=\"translate(7.2 92.539219)scale(0.1 -0.1)\">\r\n       <use xlink:href=\"#DejaVuSans-49\"/>\r\n       <use x=\"63.623047\" xlink:href=\"#DejaVuSans-48\"/>\r\n      </g>\r\n     </g>\r\n    </g>\r\n    <g id=\"ytick_4\">\r\n     <g id=\"line2d_10\">\r\n      <g>\r\n       <use style=\"stroke:#000000;stroke-width:0.8;\" x=\"26.925\" xlink:href=\"#m07d05c6708\" y=\"127.568571\"/>\r\n      </g>\r\n     </g>\r\n     <g id=\"text_10\">\r\n      <!-- 15 -->\r\n      <g transform=\"translate(7.2 131.36779)scale(0.1 -0.1)\">\r\n       <use xlink:href=\"#DejaVuSans-49\"/>\r\n       <use x=\"63.623047\" xlink:href=\"#DejaVuSans-53\"/>\r\n      </g>\r\n     </g>\r\n    </g>\r\n    <g id=\"ytick_5\">\r\n     <g id=\"line2d_11\">\r\n      <g>\r\n       <use style=\"stroke:#000000;stroke-width:0.8;\" x=\"26.925\" xlink:href=\"#m07d05c6708\" y=\"166.397143\"/>\r\n      </g>\r\n     </g>\r\n     <g id=\"text_11\">\r\n      <!-- 20 -->\r\n      <g transform=\"translate(7.2 170.196362)scale(0.1 -0.1)\">\r\n       <use xlink:href=\"#DejaVuSans-50\"/>\r\n       <use x=\"63.623047\" xlink:href=\"#DejaVuSans-48\"/>\r\n      </g>\r\n     </g>\r\n    </g>\r\n    <g id=\"ytick_6\">\r\n     <g id=\"line2d_12\">\r\n      <g>\r\n       <use style=\"stroke:#000000;stroke-width:0.8;\" x=\"26.925\" xlink:href=\"#m07d05c6708\" y=\"205.225714\"/>\r\n      </g>\r\n     </g>\r\n     <g id=\"text_12\">\r\n      <!-- 25 -->\r\n      <g transform=\"translate(7.2 209.024933)scale(0.1 -0.1)\">\r\n       <use xlink:href=\"#DejaVuSans-50\"/>\r\n       <use x=\"63.623047\" xlink:href=\"#DejaVuSans-53\"/>\r\n      </g>\r\n     </g>\r\n    </g>\r\n   </g>\r\n   <g id=\"patch_3\">\r\n    <path d=\"M 26.925 224.64 \r\nL 26.925 7.2 \r\n\" style=\"fill:none;stroke:#000000;stroke-linecap:square;stroke-linejoin:miter;stroke-width:0.8;\"/>\r\n   </g>\r\n   <g id=\"patch_4\">\r\n    <path d=\"M 244.365 224.64 \r\nL 244.365 7.2 \r\n\" style=\"fill:none;stroke:#000000;stroke-linecap:square;stroke-linejoin:miter;stroke-width:0.8;\"/>\r\n   </g>\r\n   <g id=\"patch_5\">\r\n    <path d=\"M 26.925 224.64 \r\nL 244.365 224.64 \r\n\" style=\"fill:none;stroke:#000000;stroke-linecap:square;stroke-linejoin:miter;stroke-width:0.8;\"/>\r\n   </g>\r\n   <g id=\"patch_6\">\r\n    <path d=\"M 26.925 7.2 \r\nL 244.365 7.2 \r\n\" style=\"fill:none;stroke:#000000;stroke-linecap:square;stroke-linejoin:miter;stroke-width:0.8;\"/>\r\n   </g>\r\n  </g>\r\n </g>\r\n <defs>\r\n  <clipPath id=\"pea96fdfc7d\">\r\n   <rect height=\"217.44\" width=\"217.44\" x=\"26.925\" y=\"7.2\"/>\r\n  </clipPath>\r\n </defs>\r\n</svg>\r\n",
      "image/png": "[encoded data removed]"
     },
     "metadata": {
      "needs_background": "light"
     }
    }
   ],
   "source": [
    "normalized_sample_data = subtract_average_image(sample_data, average_image)\n",
    "assert normalized_sample_data.shape == (1, 28, 28)\n",
    "np.testing.assert_array_almost_equal(normalized_sample_data.asnumpy(), (sample_data - average_image).asnumpy())\n",
    "plt.imshow(normalized_sample_data[0].asnumpy())  # 0 for first and only channel (since greyscale)."
   ]
  },
  {
   "cell_type": "markdown",
   "metadata": {},
   "source": [
    "You've now created a transform for pixelwise normalization! As mentioned previously, another common method for normalization is channelwise normalization. Complete the following function to calculate the channel averages from a batch of multi-channel inputs.\n",
    "\n",
    "Note: although the image from our dataset only have one channel, your function should support cases where there are more than one channel (e.g. RGB images).\n",
    "\n",
    "**Hint**: Check out the `axis` (or `dim`) arguments on MXNet NDArray functions."
   ]
  },
  {
   "cell_type": "code",
   "execution_count": 45,
   "metadata": {
    "deletable": false,
    "nbgrader": {
     "cell_type": "code",
     "checksum": "a20aa5394fbb2a4d50af68667ed995c6",
     "grade": false,
     "grade_id": "cell-d2bd82c63c0c28c9",
     "locked": false,
     "schema_version": 3,
     "solution": true,
     "task": false
    }
   },
   "outputs": [],
   "source": [
    "def get_channel_average_from_batch(batch):\n",
    "    \"\"\"\n",
    "    Given a batch of images, this function should return the\n",
    "    average value for each channel across the images of the batch.\n",
    "    \n",
    "    :param batch: batch of images in NCHW layout.\n",
    "    :type batch: mx.nd.NDArray\n",
    "    \n",
    "    :return: channel averages in C layout.\n",
    "    :rtype: mx.nd.NDArray\n",
    "    \"\"\"\n",
    "    # YOUR CODE HERE\n",
    "    return( mx.nd.mean(batch, axis=1, exclude=True)   )"
   ]
  },
  {
   "cell_type": "code",
   "execution_count": 46,
   "metadata": {
    "deletable": false,
    "editable": false,
    "nbgrader": {
     "cell_type": "code",
     "checksum": "61ce9104b23fdb0b51a498914c9375b3",
     "grade": true,
     "grade_id": "cell-1132428ff435fdff",
     "locked": true,
     "points": 1,
     "schema_version": 3,
     "solution": false,
     "task": false
    }
   },
   "outputs": [
    {
     "output_type": "stream",
     "name": "stdout",
     "text": "0.28757906\n"
    }
   ],
   "source": [
    "channel_average = get_channel_average_from_batch(data).asscalar()\n",
    "print(channel_average)\n",
    "assert isinstance(channel_average, np.float32)\n",
    "np.testing.assert_almost_equal(channel_average, 0.28757906, decimal=5)\n",
    "\n",
    "test_averages = mx.nd.array([1,2,3,4])\n",
    "test_input = mx.nd.reshape(test_averages, shape=(1,4,1,1)) * mx.nd.ones(shape=(10,4,25,25))\n",
    "test_channel_average = get_channel_average_from_batch(test_input)\n",
    "np.testing.assert_array_almost_equal(test_averages.asnumpy(), test_channel_average.asnumpy())"
   ]
  },
  {
   "cell_type": "markdown",
   "metadata": {
    "deletable": false,
    "editable": false,
    "nbgrader": {
     "cell_type": "markdown",
     "checksum": "ebf52b1649339c3bc81609fd7d8eb8a6",
     "grade": false,
     "grade_id": "cell-2fea1fe63abd02d1",
     "locked": true,
     "schema_version": 3,
     "solution": false,
     "task": false
    }
   },
   "source": [
    "Using this channel average, we can use the `Normalize` transform to apply this to all samples in our dataset as they are loaded."
   ]
  },
  {
   "cell_type": "code",
   "execution_count": 47,
   "metadata": {
    "deletable": false,
    "editable": false,
    "nbgrader": {
     "cell_type": "code",
     "checksum": "7c8c7678fffe3316b1d26df20948d9d3",
     "grade": false,
     "grade_id": "cell-1406cf76c0bf2d9c",
     "locked": true,
     "schema_version": 3,
     "solution": false,
     "task": false
    }
   },
   "outputs": [],
   "source": [
    "channel_std = 0.31\n",
    "transform = transforms.Compose([\n",
    "    transforms.ToTensor(),\n",
    "    transforms.Normalize(channel_average, channel_std)\n",
    "])"
   ]
  },
  {
   "cell_type": "code",
   "execution_count": 48,
   "metadata": {
    "deletable": false,
    "editable": false,
    "nbgrader": {
     "cell_type": "code",
     "checksum": "997486e117bb21d91c6c6d2e1793d5e1",
     "grade": false,
     "grade_id": "cell-09b598f5df48310e",
     "locked": true,
     "schema_version": 3,
     "solution": false,
     "task": false
    }
   },
   "outputs": [],
   "source": [
    "train_dataset = FashionMNIST(train=True, root=M4_IMAGES).transform_first(transform)\n",
    "test_dataset = FashionMNIST(train=False, root=M4_IMAGES).transform_first(transform)\n",
    "train_dataloader = mx.gluon.data.DataLoader(train_dataset, shuffle=True, batch_size=128)\n",
    "test_dataloader = mx.gluon.data.DataLoader(train_dataset, shuffle=False, batch_size=128)"
   ]
  },
  {
   "cell_type": "markdown",
   "metadata": {},
   "source": [
    "## 2) Metrics\n",
    "\n",
    "In this section, you'll implement a function to test the prediction quality of networks. Using `Accuracy` as the evaluation metric, complete the following function that takes a network and a dataloader (with test data) and returns an MXNet Metric that has been updated with labels and predictions. We'll use this function in the next section, when we train classification networks.\n",
    "\n",
    "**Hint**: You'll find classes in the `mxnet.metric` subpackage useful for this task."
   ]
  },
  {
   "cell_type": "code",
   "execution_count": 74,
   "metadata": {
    "deletable": false,
    "nbgrader": {
     "cell_type": "code",
     "checksum": "648cf62a617935ea6d929c14af92eb8b",
     "grade": false,
     "grade_id": "cell-5fab64bc4b4aa8dc",
     "locked": false,
     "schema_version": 3,
     "solution": true,
     "task": false
    }
   },
   "outputs": [],
   "source": [
    "from mxnet import metric\n",
    "\n",
    "def calculate_accuracy(network, dataloader):\n",
    "    \"\"\"\n",
    "    Calculates accuracy of the network on the data given by the dataloader.\n",
    "    \n",
    "    :param network: network to be tested\n",
    "    :type network: mx.gluon.Block\n",
    "    :param dataloader: dataloader for test data\n",
    "    :type dataloader: mx.gluon.data.DataLoader\n",
    "    \n",
    "    :return: updated metric\n",
    "    :rtype: mx.metric.EvalMetric\n",
    "    \"\"\"\n",
    "    # YOUR CODE HERE\n",
    "    acc = metric.Accuracy()\n",
    "    for data, labels in tqdm(dataloader):\n",
    "        preds = network(data)\n",
    "        # YOUR CODE HERE\n",
    "        acc.update(labels = labels,preds = preds)\n",
    "    return acc"
   ]
  },
  {
   "cell_type": "code",
   "execution_count": 50,
   "metadata": {
    "deletable": false,
    "editable": false,
    "nbgrader": {
     "cell_type": "code",
     "checksum": "2a5f1bac4bcf9a3e81d52ea269a61070",
     "grade": true,
     "grade_id": "cell-56296ecc0573751e",
     "locked": true,
     "points": 2,
     "schema_version": 3,
     "solution": false,
     "task": false
    }
   },
   "outputs": [
    {
     "output_type": "stream",
     "name": "stderr",
     "text": "100%|██████████| 469/469 [00:11<00:00, 39.88it/s]('accuracy', 0.05345)\n\n"
    }
   ],
   "source": [
    "test_network = mx.gluon.nn.Dense(units=10)\n",
    "test_network.initialize()\n",
    "metric = calculate_accuracy(test_network, test_dataloader)\n",
    "print(metric.get())\n",
    "isinstance(metric, mx.metric.EvalMetric)\n",
    "assert metric.name == 'accuracy'\n",
    "assert metric.num_inst == 60000"
   ]
  },
  {
   "cell_type": "markdown",
   "metadata": {
    "deletable": false,
    "editable": false,
    "nbgrader": {
     "cell_type": "markdown",
     "checksum": "cb82044f0fc5c506b7e0ded91ed9b428",
     "grade": false,
     "grade_id": "cell-3f04789a1e05233e",
     "locked": true,
     "schema_version": 3,
     "solution": false,
     "task": false
    }
   },
   "source": [
    "## 3) Network"
   ]
  },
  {
   "cell_type": "markdown",
   "metadata": {},
   "source": [
    "In the section, you'll implement a couple of different image classification networks and train then on the `FashionMNIST` dataset. A `train` function is already provided in this assignment, because the focus will be on network construction."
   ]
  },
  {
   "cell_type": "code",
   "execution_count": 51,
   "metadata": {
    "deletable": false,
    "editable": false,
    "nbgrader": {
     "cell_type": "code",
     "checksum": "77f5bee4daf2e646e8b00a4cb792c9ab",
     "grade": false,
     "grade_id": "cell-027a252196f10f5c",
     "locked": true,
     "schema_version": 3,
     "solution": false,
     "task": false
    }
   },
   "outputs": [],
   "source": [
    "def train(network, dataloader):\n",
    "    softmax_cross_entropy = mx.gluon.loss.SoftmaxCrossEntropyLoss()\n",
    "    trainer = mx.gluon.Trainer(network.collect_params(), 'sgd', {'learning_rate': 0.1})\n",
    "    for data, label in tqdm(dataloader):\n",
    "        with mx.autograd.record():\n",
    "            output = network(data)\n",
    "            loss = softmax_cross_entropy(output, label)\n",
    "        loss.backward()\n",
    "        trainer.step(data.shape[0])"
   ]
  },
  {
   "cell_type": "markdown",
   "metadata": {
    "deletable": false,
    "editable": false,
    "nbgrader": {
     "cell_type": "markdown",
     "checksum": "3d078ccad213eb7f0540c0e0a7f4fd6f",
     "grade": false,
     "grade_id": "cell-8835b94cce73c05b",
     "locked": true,
     "schema_version": 3,
     "solution": false,
     "task": false
    }
   },
   "source": [
    "Your first model should be a sequential network, with 3 layers. You first layer should have 16 hidden units, the second should have 8 hidden units and the last layer should the correct number of output units for the classification task at hand. You should add ReLU activations on all hidden layers, but not the output layer. You should define `network` in the cell below.\n",
    "\n",
    "**Hint**: You'll find classes in the `mxnet.gluon.nn` subpackage useful for this task."
   ]
  },
  {
   "cell_type": "code",
   "execution_count": 52,
   "metadata": {
    "deletable": false,
    "nbgrader": {
     "cell_type": "code",
     "checksum": "d35d987cac115ee0c6fcde1ccf9395ab",
     "grade": false,
     "grade_id": "cell-60d2aed0c10748dc",
     "locked": false,
     "schema_version": 3,
     "solution": true,
     "task": false
    }
   },
   "outputs": [],
   "source": [
    "# YOUR CODE HERE\n",
    "from mxnet.gluon import nn\n",
    "network = nn.Sequential()\n",
    "network.add(\n",
    "    nn.Dense(16, activation='relu'),\n",
    "    nn.Dense(8, activation='relu'),\n",
    "    nn.Dense(10)\n",
    ")"
   ]
  },
  {
   "cell_type": "code",
   "execution_count": 53,
   "metadata": {
    "deletable": false,
    "editable": false,
    "nbgrader": {
     "cell_type": "code",
     "checksum": "bac44090ed660601c9bb11488e4457e8",
     "grade": true,
     "grade_id": "cell-fab27ff9cbdb32f3",
     "locked": true,
     "points": 2,
     "schema_version": 3,
     "solution": false,
     "task": false
    }
   },
   "outputs": [],
   "source": [
    "assert isinstance(network, mx.gluon.nn.Sequential)\n",
    "assert len(network) == 3\n",
    "assert isinstance(network[0], mx.gluon.nn.Dense)\n",
    "assert network[0].act.name.endswith('relu')\n",
    "assert network[0].weight.shape[0] == 16\n",
    "assert isinstance(network[1], mx.gluon.nn.Dense)\n",
    "assert network[1].act.name.endswith('relu')\n",
    "assert network[1].weight.shape[0] == 8\n",
    "assert isinstance(network[2], mx.gluon.nn.Dense)\n",
    "assert network[2].act is None\n",
    "assert network[2].weight.shape[0] == 10"
   ]
  },
  {
   "cell_type": "markdown",
   "metadata": {
    "deletable": false,
    "editable": false,
    "nbgrader": {
     "cell_type": "markdown",
     "checksum": "a12fc8925d662b2379c9da051c6ad04d",
     "grade": false,
     "grade_id": "cell-0c105c466260d8df",
     "locked": true,
     "schema_version": 3,
     "solution": false,
     "task": false
    }
   },
   "source": [
    "With your network now defined, you should initialize its parameters using the Xavier method in the cell below.\n",
    "\n",
    "**Hint**: You'll find classes in the `mxnet.init` subpackage useful for this task."
   ]
  },
  {
   "cell_type": "code",
   "execution_count": 54,
   "metadata": {
    "deletable": false,
    "nbgrader": {
     "cell_type": "code",
     "checksum": "5034e223765daeb8ff11357a8385621d",
     "grade": false,
     "grade_id": "cell-fa9e3830a921ccc1",
     "locked": false,
     "schema_version": 3,
     "solution": true,
     "task": false
    }
   },
   "outputs": [],
   "source": [
    "# YOUR CODE HERE\n",
    "initializer = mx.initializer.Xavier()\n",
    "network.initialize(initializer)"
   ]
  },
  {
   "cell_type": "code",
   "execution_count": 55,
   "metadata": {
    "deletable": false,
    "editable": false,
    "nbgrader": {
     "cell_type": "code",
     "checksum": "082079014c9879392a59ea4f9ba69b89",
     "grade": true,
     "grade_id": "cell-aab6f8ac1595ddf3",
     "locked": true,
     "points": 1,
     "schema_version": 3,
     "solution": false,
     "task": false
    }
   },
   "outputs": [],
   "source": [
    "assert isinstance(initializer, mx.initializer.Xavier)"
   ]
  },
  {
   "cell_type": "markdown",
   "metadata": {
    "deletable": false,
    "editable": false,
    "nbgrader": {
     "cell_type": "markdown",
     "checksum": "7b66a83fe4f502980f1aa332babea54a",
     "grade": false,
     "grade_id": "cell-71470ca5057ba4e7",
     "locked": true,
     "schema_version": 3,
     "solution": false,
     "task": false
    }
   },
   "source": [
    "We'll now check the network summary and see that the network has 12786 trainable parameters."
   ]
  },
  {
   "cell_type": "code",
   "execution_count": 56,
   "metadata": {
    "deletable": false,
    "editable": false,
    "nbgrader": {
     "cell_type": "code",
     "checksum": "59aea017252d590b7e5f1d59e4997cf6",
     "grade": false,
     "grade_id": "cell-a13e4f389f395b25",
     "locked": true,
     "schema_version": 3,
     "solution": false,
     "task": false
    }
   },
   "outputs": [
    {
     "output_type": "stream",
     "name": "stdout",
     "text": "--------------------------------------------------------------------------------\n        Layer (type)                                Output Shape         Param #\n================================================================================\n               Input                           (1024, 1, 28, 28)               0\n        Activation-1                    <Symbol dense5_relu_fwd>               0\n        Activation-2                                  (1024, 16)               0\n             Dense-3                                  (1024, 16)           12560\n        Activation-4                    <Symbol dense6_relu_fwd>               0\n        Activation-5                                   (1024, 8)               0\n             Dense-6                                   (1024, 8)             136\n             Dense-7                                  (1024, 10)              90\n================================================================================\nParameters in forward computation graph, duplicate included\n   Total params: 12786\n   Trainable params: 12786\n   Non-trainable params: 0\nShared params in forward computation graph: 0\nUnique parameters in model: 12786\n--------------------------------------------------------------------------------\n"
    }
   ],
   "source": [
    "network.summary(data)"
   ]
  },
  {
   "cell_type": "markdown",
   "metadata": {
    "deletable": false,
    "editable": false,
    "nbgrader": {
     "cell_type": "markdown",
     "checksum": "d5770042162ac6a34dfd0eb57cef562a",
     "grade": false,
     "grade_id": "cell-f23f24b41797c698",
     "locked": true,
     "schema_version": 3,
     "solution": false,
     "task": false
    }
   },
   "source": [
    "And use the `calculate_accuracy` function defined in the previous section to evaluate the performance of this architecture."
   ]
  },
  {
   "cell_type": "code",
   "execution_count": 63,
   "metadata": {
    "deletable": false,
    "editable": false,
    "nbgrader": {
     "cell_type": "code",
     "checksum": "958cb52f6fea4c610ad6fb12b69c9cd6",
     "grade": false,
     "grade_id": "cell-15085d2bbec07611",
     "locked": true,
     "schema_version": 3,
     "solution": false,
     "task": false
    }
   },
   "outputs": [
    {
     "output_type": "stream",
     "name": "stderr",
     "text": "100%|██████████| 469/469 [00:11<00:00, 39.14it/s]\n100%|██████████| 469/469 [00:11<00:00, 41.53it/s]('accuracy', 0.8518)\n\n"
    }
   ],
   "source": [
    "train(network, train_dataloader)\n",
    "metric = calculate_accuracy(network, test_dataloader)\n",
    "print(metric.get())"
   ]
  },
  {
   "cell_type": "markdown",
   "metadata": {
    "deletable": false,
    "editable": false,
    "nbgrader": {
     "cell_type": "markdown",
     "checksum": "aae608960225ca66817116e7e18a9247",
     "grade": false,
     "grade_id": "cell-b4bb794993da124b",
     "locked": true,
     "schema_version": 3,
     "solution": false,
     "task": false
    }
   },
   "source": [
    "You're final objective in this assignment is to try a different architecture that uses convolutional and max pooling layers. You should define another sequential network, but this time it should have 5 layers in total:\n",
    "\n",
    "1. Convolutional Layer (32 channels, 3x3 kernel and ReLU activation)\n",
    "2. Max Pooling Layer (2x2 kernel and 2x2 stride)\n",
    "3. Convolutional Layer (16 channels, 3x3 kernel and ReLU activation)\n",
    "4. Max Pooling Layer (2x2 kernel and 2x2 stride)\n",
    "5. Dense Layer (10 output units)"
   ]
  },
  {
   "cell_type": "code",
   "execution_count": 70,
   "metadata": {
    "deletable": false,
    "nbgrader": {
     "cell_type": "code",
     "checksum": "a2da3d4d690016aa9b1fddafe7c9f4c5",
     "grade": false,
     "grade_id": "cell-27362e76af20b586",
     "locked": false,
     "schema_version": 3,
     "solution": true,
     "task": false
    }
   },
   "outputs": [],
   "source": [
    "# YOUR CODE HERE\n",
    "network = nn.Sequential()\n",
    "network.add(\n",
    "    nn.Conv2D(32, (3,3),activation='relu'),\n",
    "    nn.MaxPool2D(pool_size=(2, 2), strides=(2, 2)),\n",
    "    nn.Conv2D(16, (3,3),activation='relu'),\n",
    "    nn.MaxPool2D(pool_size=(2, 2), strides=(2, 2)),\n",
    "    nn.Dense(10)\n",
    ")"
   ]
  },
  {
   "cell_type": "code",
   "execution_count": 71,
   "metadata": {
    "deletable": false,
    "editable": false,
    "nbgrader": {
     "cell_type": "code",
     "checksum": "658f43b3f172cefd8a416f9143c0cc9a",
     "grade": true,
     "grade_id": "cell-f6d99cca56b03a4c",
     "locked": true,
     "points": 2,
     "schema_version": 3,
     "solution": false,
     "task": false
    }
   },
   "outputs": [],
   "source": [
    "assert isinstance(network, mx.gluon.nn.Sequential)\n",
    "assert len(network) == 5\n",
    "assert isinstance(network[0], mx.gluon.nn.Conv2D)\n",
    "assert network[0].act.name.endswith('relu')\n",
    "assert network[0].weight.shape[0] == 32\n",
    "assert isinstance(network[1], mx.gluon.nn.MaxPool2D)\n",
    "assert isinstance(network[2], mx.gluon.nn.Conv2D)\n",
    "assert network[2].act.name.endswith('relu')\n",
    "assert network[2].weight.shape[0] == 16\n",
    "assert isinstance(network[3], mx.gluon.nn.MaxPool2D)\n",
    "assert isinstance(network[4], mx.gluon.nn.Dense)\n",
    "assert network[4].act is None\n",
    "assert network[4].weight.shape[0] == 10"
   ]
  },
  {
   "cell_type": "markdown",
   "metadata": {
    "deletable": false,
    "editable": false,
    "nbgrader": {
     "cell_type": "markdown",
     "checksum": "59680071ae46fddcb37e07b965fc9dbc",
     "grade": false,
     "grade_id": "cell-7aba8aa6bd98797e",
     "locked": true,
     "schema_version": 3,
     "solution": false,
     "task": false
    }
   },
   "source": [
    "Let's initialize the parameters of the network, and show a summary of the network architecture.\n",
    "\n",
    "With 8954 trainable parameters, this network's got 30% fewer parameters than the previous network."
   ]
  },
  {
   "cell_type": "code",
   "execution_count": 72,
   "metadata": {
    "deletable": false,
    "editable": false,
    "nbgrader": {
     "cell_type": "code",
     "checksum": "226a74a762a411b9a6ec985a7b3b4d02",
     "grade": false,
     "grade_id": "cell-5b9ad1023c066bbe",
     "locked": true,
     "schema_version": 3,
     "solution": false,
     "task": false
    }
   },
   "outputs": [
    {
     "output_type": "stream",
     "name": "stdout",
     "text": "--------------------------------------------------------------------------------\n        Layer (type)                                Output Shape         Param #\n================================================================================\n               Input                           (1024, 1, 28, 28)               0\n        Activation-1                     <Symbol conv4_relu_fwd>               0\n        Activation-2                          (1024, 32, 26, 26)               0\n            Conv2D-3                          (1024, 32, 26, 26)             320\n         MaxPool2D-4                          (1024, 32, 13, 13)               0\n        Activation-5                     <Symbol conv5_relu_fwd>               0\n        Activation-6                          (1024, 16, 11, 11)               0\n            Conv2D-7                          (1024, 16, 11, 11)            4624\n         MaxPool2D-8                            (1024, 16, 5, 5)               0\n             Dense-9                                  (1024, 10)            4010\n================================================================================\nParameters in forward computation graph, duplicate included\n   Total params: 8954\n   Trainable params: 8954\n   Non-trainable params: 0\nShared params in forward computation graph: 0\nUnique parameters in model: 8954\n--------------------------------------------------------------------------------\n"
    }
   ],
   "source": [
    "network.initialize(init=initializer)\n",
    "network.summary(data)"
   ]
  },
  {
   "cell_type": "markdown",
   "metadata": {
    "deletable": false,
    "editable": false,
    "nbgrader": {
     "cell_type": "markdown",
     "checksum": "9c93f40630de025d96f78ca5df6f8b0a",
     "grade": false,
     "grade_id": "cell-3b2f9d639c371864",
     "locked": true,
     "schema_version": 3,
     "solution": false,
     "task": false
    }
   },
   "source": [
    "And finally, let's evaluate the network performance."
   ]
  },
  {
   "cell_type": "code",
   "execution_count": 75,
   "metadata": {
    "deletable": false,
    "editable": false,
    "nbgrader": {
     "cell_type": "code",
     "checksum": "797450f201e5b58137770b5afbcdde27",
     "grade": false,
     "grade_id": "cell-6a0bbef7dab7fc86",
     "locked": true,
     "schema_version": 3,
     "solution": false,
     "task": false
    }
   },
   "outputs": [
    {
     "output_type": "stream",
     "name": "stderr",
     "text": "100%|██████████| 469/469 [00:29<00:00, 15.74it/s]\n100%|██████████| 469/469 [00:30<00:00, 15.62it/s]('accuracy', 0.8386166666666667)\n\n"
    }
   ],
   "source": [
    "train(network, train_dataloader)\n",
    "metric = calculate_accuracy(network, test_dataloader)\n",
    "print(metric.get())"
   ]
  },
  {
   "cell_type": "markdown",
   "metadata": {
    "deletable": false,
    "editable": false,
    "nbgrader": {
     "cell_type": "markdown",
     "checksum": "daac204b6befa96b9d1ceb3883b7dffb",
     "grade": false,
     "grade_id": "cell-9a3e6f798eaeb49b",
     "locked": true,
     "schema_version": 3,
     "solution": false,
     "task": false
    }
   },
   "source": [
    "We're only training for a single epoch here. You'd expect to get improved accuracy if training for more epochs. "
   ]
  }
 ],
 "metadata": {
  "coursera": {
   "assignment_name": "module_4",
   "assignment_version": 2,
   "course_slug": "aws-computer-vision-gluoncv",
   "graded_item_id": "FoZrl",
   "launcher_item_id": "vcm0m"
  },
  "kernelspec": {
   "display_name": "Python 3",
   "language": "python",
   "name": "python3"
  },
  "language_info": {
   "codemirror_mode": {
    "name": "ipython",
    "version": 3
   },
   "file_extension": ".py",
   "mimetype": "text/x-python",
   "name": "python",
   "nbconvert_exporter": "python",
   "pygments_lexer": "ipython3",
   "version": "3.7.4-final"
  }
 },
 "nbformat": 4,
 "nbformat_minor": 1
}